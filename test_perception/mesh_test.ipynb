{
 "cells": [
  {
   "cell_type": "code",
   "execution_count": null,
   "id": "2423a1df",
   "metadata": {},
   "outputs": [],
   "source": [
    "from pydrake.geometry import ( StartMeshcat )\n",
    "from pydrake.geometry import Rgba\n",
    "from pydrake.math import RigidTransform, RollPitchYaw\n",
    "from pydrake.geometry import Mesh\n",
    "\n",
    "meshcat = StartMeshcat()"
   ]
  },
  {
   "cell_type": "code",
   "execution_count": null,
   "id": "cb60de90",
   "metadata": {},
   "outputs": [],
   "source": [
    "meshcat.Delete()\n",
    "\n",
    "# Load mesh (can be .obj, .stl, .dae)\n",
    "mesh_path = \"/home/arath/github/arms-robotic-system/common-files/models/Ketchup/Ketchup.obj\"\n",
    "geometry = Mesh(mesh_path, scale=0.01)\n",
    "\n",
    "# Add it to Meshcat\n",
    "meshcat.SetObject(\"my_custom_mesh\", geometry, Rgba(0.5, 0.5, 0.5, 1.0))\n",
    "\n",
    "# Initial pose\n",
    "X_initial = RigidTransform(RollPitchYaw(0, 0, 0), [0.0, 0.0, 0.0])\n",
    "meshcat.SetTransform(\"my_custom_mesh\", X_initial)"
   ]
  },
  {
   "cell_type": "code",
   "execution_count": null,
   "id": "1a9a4ed6",
   "metadata": {},
   "outputs": [],
   "source": [
    "import numpy as np\n",
    "import time\n",
    "\n",
    "for i in range(100):\n",
    "    x = 0.1 * np.sin(0.1 * i)\n",
    "    y = 0.1 * np.cos(0.1 * i)\n",
    "    z = 0.05 * i / 100\n",
    "    rpy = RollPitchYaw(0, 0, 0.1 * i)\n",
    "\n",
    "    X_new = RigidTransform(rpy, [x, y, z])\n",
    "    meshcat.SetTransform(\"my_custom_mesh\", X_new)\n",
    "    time.sleep(0.05)"
   ]
  }
 ],
 "metadata": {
  "kernelspec": {
   "display_name": "Python (my_venv)",
   "language": "python",
   "name": "my_venv"
  },
  "language_info": {
   "codemirror_mode": {
    "name": "ipython",
    "version": 3
   },
   "file_extension": ".py",
   "mimetype": "text/x-python",
   "name": "python",
   "nbconvert_exporter": "python",
   "pygments_lexer": "ipython3",
   "version": "3.12.0"
  }
 },
 "nbformat": 4,
 "nbformat_minor": 5
}
