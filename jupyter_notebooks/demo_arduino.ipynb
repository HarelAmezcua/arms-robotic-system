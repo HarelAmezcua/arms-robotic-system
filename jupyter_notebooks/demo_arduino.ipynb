{
 "cells": [
  {
   "cell_type": "code",
   "execution_count": 1,
   "id": "6c26eafd",
   "metadata": {},
   "outputs": [
    {
     "name": "stderr",
     "output_type": "stream",
     "text": [
      "INFO:drake:Meshcat listening for connections at http://localhost:7001\n"
     ]
    }
   ],
   "source": [
    "import sys\n",
    "import os\n",
    "import json\n",
    "\n",
    "if 'google.colab' in sys.modules:\n",
    "  print(\"You are in colab\")\n",
    "  from google.colab import drive\n",
    "  drive.mount('/content/drive')\n",
    "  os.chdir('/content/drive/MyDrive/Otros/arms-robotic-system/jupyter_notebooks')\n",
    "  !pip install pyngrok drake\n",
    "  from pyngrok import ngrok\n",
    "\n",
    "from pydrake.geometry import ( StartMeshcat )\n",
    "from pydrake.geometry.optimization import (SaveIrisRegionsYamlFile,LoadIrisRegionsYamlFile) # type: ignore\n",
    "\n",
    "# add parent folders to path\n",
    "sys.path.append(os.path.abspath('..'))\n",
    "\n",
    "# Update the import\n",
    "from src.auxiliar_functions import (VisualizeConnectivity)\n",
    "from src.gcs_trajectory_optimization import GcsTrajOpt, demo_trajectory_optimization\n",
    "from src.iris_options import load_config, create_iris_options\n",
    "from src.joint_teleop import JointTeleop\n",
    "from src.gcs_helper import VisualizeRegions\n",
    "from src.end_effector_teleop import EndEffectorTeleop\n",
    "\n",
    "# Start the visualizer (only run this once).\n",
    "meshcat = StartMeshcat()\n",
    "if 'google.colab' in sys.modules:\n",
    "  # Create a tunnel to the Meshcat server\n",
    "  ngrok.set_auth_token(\"2rdws4UBYTqZ1NiiyEbJcWRnByV_7D9Jg8K3YVyZzbFMN1ysg\")\n",
    "  public_url = ngrok.connect(7000, \"http\")\n",
    "  print(f\"Meshcat is accessible at: {public_url}\")"
   ]
  },
  {
   "cell_type": "code",
   "execution_count": 2,
   "id": "3da73c48",
   "metadata": {},
   "outputs": [
    {
     "name": "stdout",
     "output_type": "stream",
     "text": [
      "Loaded iris regions from /home/arath/github/arms-robotic-system/common-files/regions/my_regions.yaml.\n"
     ]
    }
   ],
   "source": [
    "parent_dir = os.path.abspath('..')\n",
    "iris_regions = dict()\n",
    "\n",
    "with open(os.path.join(parent_dir, 'common-files','gcs_seeds.json'), 'r') as f:\n",
    "    iris_seeds = json.load(f)\n",
    "\n",
    "\n",
    "if os.path.isfile(os.path.join(parent_dir, 'options.yaml')):\n",
    "    config = load_config(os.path.join(parent_dir, 'options.yaml'))\n",
    "    iris_filename = os.path.join(parent_dir,config[\"iris_regions_path\"])\n",
    "    if os.path.isfile(iris_filename):\n",
    "        iris_regions.update(LoadIrisRegionsYamlFile(iris_filename))\n",
    "        print(f\"Loaded iris regions from {iris_filename}.\")\n",
    "    else:\n",
    "        print(f\"{iris_filename} not found. No previously computed regions were loaded.\")"
   ]
  },
  {
   "cell_type": "code",
   "execution_count": 3,
   "id": "86bcbaa5",
   "metadata": {},
   "outputs": [],
   "source": [
    "with open(os.path.join(parent_dir, 'common-files','gcs_seeds.json'), 'r') as f:\n",
    "    iris_seeds = json.load(f)\n",
    "    iris_seeds = {key: iris_seeds[key] for key in iris_regions if key in iris_seeds}"
   ]
  },
  {
   "cell_type": "code",
   "execution_count": 4,
   "id": "0a96bc0d",
   "metadata": {},
   "outputs": [
    {
     "data": {
      "text/plain": [
       "(14,\n",
       " {'backwards': [0.0, 0.47, 1.0, 0.0, 0.0],\n",
       "  'home': [0.0, 0.95, -1.33, -1.27, 0.0],\n",
       "  'ketchup_in_front': [0.0, 0.65, -1.23, -0.96, 0.0],\n",
       "  'ketchup_left': [0.53, -1.57, 0.0, 0.0, 0.0],\n",
       "  'ketchup_right': [-0.53, -1.57, 0.0, 0.0, 0.0],\n",
       "  'left_bin_pre_middle': [1.57, 1.57, -1.57, -1.57, 0.0],\n",
       "  'left_bin_pre_up_1': [1.57, 0.79, -0.79, -1.57, 0.0],\n",
       "  'left_bin_pre_up_2': [1.57, 0.2, -1.05, -1.05, 0.0],\n",
       "  'left_bin_top_rack': [1.57, -0.12, -0.89, -0.76, 0],\n",
       "  'right_bin_pre_middle': [1.57, 1.57, -1.57, -1.57, 0.0],\n",
       "  'right_bin_pre_up_1': [1.57, 0.79, -0.79, -1.57, 0.0],\n",
       "  'right_bin_pre_up_2': [1.57, 0.2, -1.05, -1.05, 0.0],\n",
       "  'right_bin_top_rack': [1.57, -0.12, -0.89, -0.76, 0],\n",
       "  'zero': [0.0, 0.0, 0.0, 0.0, 0.0]})"
      ]
     },
     "execution_count": 4,
     "metadata": {},
     "output_type": "execute_result"
    }
   ],
   "source": [
    "len(iris_seeds),iris_seeds"
   ]
  },
  {
   "cell_type": "code",
   "execution_count": 6,
   "id": "a5038fbf",
   "metadata": {},
   "outputs": [
    {
     "name": "stdout",
     "output_type": "stream",
     "text": [
      "q_start: [ 0.    0.65 -1.23 -0.96  0.  ]\n",
      "q_goal: [ 0.    0.65 -1.23 -0.96  0.  ]\n"
     ]
    },
    {
     "name": "stderr",
     "output_type": "stream",
     "text": [
      "INFO:drake:Solved GCS shortest path using Clp with convex_relaxation=true and preprocessing=true and rounding.\n",
      "INFO:drake:Found 1 unique paths, discarded 99 duplicate paths.\n",
      "INFO:drake:Finished 1 rounding solutions with Clp.\n"
     ]
    },
    {
     "name": "stdout",
     "output_type": "stream",
     "text": [
      "GCS solved in 1.290968894958496 seconds\n",
      "time:  0.0 3e-06\n",
      "running animation\n",
      "q_start: [ 0.    0.65 -1.23 -0.96  0.  ]\n",
      "q_goal: [0. 0. 0. 0. 0.]\n"
     ]
    },
    {
     "name": "stderr",
     "output_type": "stream",
     "text": [
      "INFO:drake:Solved GCS shortest path using Clp with convex_relaxation=true and preprocessing=true and rounding.\n",
      "INFO:drake:Found 5 unique paths, discarded 6 duplicate paths.\n",
      "INFO:drake:Finished 5 rounding solutions with Clp.\n"
     ]
    },
    {
     "name": "stdout",
     "output_type": "stream",
     "text": [
      "GCS solved in 2.7526917457580566 seconds\n",
      "time:  0.0 3.514287714\n",
      "running animation\n",
      "q_start: [0. 0. 0. 0. 0.]\n",
      "q_goal: [ 0.    0.65 -1.23 -0.96  0.  ]\n"
     ]
    },
    {
     "name": "stderr",
     "output_type": "stream",
     "text": [
      "INFO:drake:Solved GCS shortest path using Clp with convex_relaxation=true and preprocessing=true and rounding.\n",
      "INFO:drake:Found 5 unique paths, discarded 16 duplicate paths.\n",
      "INFO:drake:Finished 5 rounding solutions with Clp.\n"
     ]
    },
    {
     "name": "stdout",
     "output_type": "stream",
     "text": [
      "GCS solved in 2.8034088611602783 seconds\n",
      "time:  0.0 3.514287714\n",
      "running animation\n",
      "q_start: [ 0.    0.65 -1.23 -0.96  0.  ]\n",
      "q_goal: [ 1.57  0.79 -0.79 -1.57  0.  ]\n"
     ]
    },
    {
     "name": "stderr",
     "output_type": "stream",
     "text": [
      "INFO:drake:Solved GCS shortest path using Clp with convex_relaxation=true and preprocessing=true and rounding.\n",
      "INFO:drake:Found 5 unique paths, discarded 5 duplicate paths.\n",
      "INFO:drake:Finished 5 rounding solutions with Clp.\n"
     ]
    },
    {
     "name": "stdout",
     "output_type": "stream",
     "text": [
      "GCS solved in 5.755195140838623 seconds\n",
      "time:  0.0 4.485716285428572\n",
      "running animation\n",
      "q_start: [ 1.57  0.79 -0.79 -1.57  0.  ]\n",
      "q_goal: [ 0.    0.65 -1.23 -0.96  0.  ]\n"
     ]
    },
    {
     "name": "stderr",
     "output_type": "stream",
     "text": [
      "INFO:drake:Solved GCS shortest path using Clp with convex_relaxation=true and preprocessing=true and rounding.\n",
      "INFO:drake:Found 5 unique paths, discarded 2 duplicate paths.\n",
      "INFO:drake:Finished 5 rounding solutions with Clp.\n"
     ]
    },
    {
     "name": "stdout",
     "output_type": "stream",
     "text": [
      "GCS solved in 3.8576791286468506 seconds\n",
      "time:  0.0 4.485716285514285\n",
      "running animation\n",
      "q_start: [ 0.    0.65 -1.23 -0.96  0.  ]\n",
      "q_goal: [ 1.57  0.79 -0.79 -1.57  0.  ]\n"
     ]
    },
    {
     "name": "stderr",
     "output_type": "stream",
     "text": [
      "INFO:drake:Solved GCS shortest path using Clp with convex_relaxation=true and preprocessing=true and rounding.\n",
      "INFO:drake:Found 5 unique paths, discarded 5 duplicate paths.\n",
      "INFO:drake:Finished 5 rounding solutions with Clp.\n"
     ]
    },
    {
     "name": "stdout",
     "output_type": "stream",
     "text": [
      "GCS solved in 5.727985143661499 seconds\n",
      "time:  0.0 4.485716285428572\n",
      "running animation\n",
      "q_start: [ 1.57  0.79 -0.79 -1.57  0.  ]\n",
      "q_goal: [ 0.    0.65 -1.23 -0.96  0.  ]\n"
     ]
    },
    {
     "name": "stderr",
     "output_type": "stream",
     "text": [
      "INFO:drake:Solved GCS shortest path using Clp with convex_relaxation=true and preprocessing=true and rounding.\n",
      "INFO:drake:Found 5 unique paths, discarded 2 duplicate paths.\n",
      "INFO:drake:Finished 5 rounding solutions with Clp.\n"
     ]
    },
    {
     "name": "stdout",
     "output_type": "stream",
     "text": [
      "GCS solved in 5.785277843475342 seconds\n",
      "time:  0.0 4.485716285514285\n",
      "running animation\n",
      "q_start: [ 0.    0.65 -1.23 -0.96  0.  ]\n",
      "q_goal: [ 1.57 -0.12 -0.89 -0.76  0.  ]\n"
     ]
    },
    {
     "name": "stderr",
     "output_type": "stream",
     "text": [
      "INFO:drake:Solved GCS shortest path using Clp with convex_relaxation=true and preprocessing=true and rounding.\n",
      "INFO:drake:Found 5 unique paths, discarded 8 duplicate paths.\n",
      "INFO:drake:Finished 5 rounding solutions with Clp.\n"
     ]
    },
    {
     "name": "stdout",
     "output_type": "stream",
     "text": [
      "GCS solved in 11.648106336593628 seconds\n",
      "time:  0.0 6.340862205395104\n",
      "running animation\n",
      "q_start: [ 1.57 -0.12 -0.89 -0.76  0.  ]\n",
      "q_goal: [ 0.    0.65 -1.23 -0.96  0.  ]\n"
     ]
    },
    {
     "name": "stderr",
     "output_type": "stream",
     "text": [
      "INFO:drake:Solved GCS shortest path using Clp with convex_relaxation=true and preprocessing=true and rounding.\n",
      "INFO:drake:Found 5 unique paths, discarded 1 duplicate paths.\n",
      "INFO:drake:Finished 5 rounding solutions with Clp.\n"
     ]
    },
    {
     "name": "stdout",
     "output_type": "stream",
     "text": [
      "GCS solved in 16.234075784683228 seconds\n",
      "time:  0.0 6.340862205395104\n",
      "running animation\n",
      "q_start: [ 0.    0.65 -1.23 -0.96  0.  ]\n",
      "q_goal: [ 1.57  0.79 -0.79 -1.57  0.  ]\n"
     ]
    },
    {
     "name": "stderr",
     "output_type": "stream",
     "text": [
      "INFO:drake:Solved GCS shortest path using Clp with convex_relaxation=true and preprocessing=true and rounding.\n",
      "INFO:drake:Found 5 unique paths, discarded 5 duplicate paths.\n",
      "INFO:drake:Finished 5 rounding solutions with Clp.\n"
     ]
    },
    {
     "name": "stdout",
     "output_type": "stream",
     "text": [
      "GCS solved in 5.964883804321289 seconds\n",
      "time:  0.0 4.485716285428572\n",
      "running animation\n"
     ]
    }
   ],
   "source": [
    "demo_trajectory_optimization(iris_regions, iris_seeds,meshcat)"
   ]
  },
  {
   "cell_type": "code",
   "execution_count": 5,
   "id": "b16329e8",
   "metadata": {},
   "outputs": [
    {
     "data": {
      "image/svg+xml": [
       "<svg xmlns=\"http://www.w3.org/2000/svg\" xmlns:xlink=\"http://www.w3.org/1999/xlink\" width=\"1082pt\" height=\"620pt\" viewBox=\"0.00 0.00 1082.22 620.00\">\n",
       "<g id=\"graph0\" class=\"graph\" transform=\"scale(1 1) rotate(0) translate(4 616)\">\n",
       "<title>IRIS region connectivity</title>\n",
       "<polygon fill=\"white\" stroke=\"transparent\" points=\"-4,4 -4,-616 1078.22,-616 1078.22,4 -4,4\"/>\n",
       "<!-- backwards -->\n",
       "<g id=\"node1\" class=\"node\">\n",
       "<title>backwards</title>\n",
       "<ellipse fill=\"none\" stroke=\"black\" cx=\"396\" cy=\"-594\" rx=\"60.39\" ry=\"18\"/>\n",
       "<text text-anchor=\"middle\" x=\"396\" y=\"-590.3\" font-family=\"Times,serif\" font-size=\"14.00\">backwards</text>\n",
       "</g>\n",
       "<!-- home -->\n",
       "<g id=\"node2\" class=\"node\">\n",
       "<title>home</title>\n",
       "<ellipse fill=\"none\" stroke=\"black\" cx=\"396\" cy=\"-522\" rx=\"36.29\" ry=\"18\"/>\n",
       "<text text-anchor=\"middle\" x=\"396\" y=\"-518.3\" font-family=\"Times,serif\" font-size=\"14.00\">home</text>\n",
       "</g>\n",
       "<!-- backwards&#45;&gt;home -->\n",
       "<g id=\"edge1\" class=\"edge\">\n",
       "<title>backwards-&gt;home</title>\n",
       "<path fill=\"none\" stroke=\"black\" d=\"M396,-565.67C396,-560.69 396,-555.49 396,-550.51\"/>\n",
       "<polygon fill=\"black\" stroke=\"black\" points=\"392.5,-565.7 396,-575.7 399.5,-565.7 392.5,-565.7\"/>\n",
       "<polygon fill=\"black\" stroke=\"black\" points=\"399.5,-550.1 396,-540.1 392.5,-550.1 399.5,-550.1\"/>\n",
       "</g>\n",
       "<!-- left_bin_pre_middle -->\n",
       "<g id=\"node6\" class=\"node\">\n",
       "<title>left_bin_pre_middle</title>\n",
       "<ellipse fill=\"none\" stroke=\"black\" cx=\"630\" cy=\"-378\" rx=\"101.28\" ry=\"18\"/>\n",
       "<text text-anchor=\"middle\" x=\"630\" y=\"-374.3\" font-family=\"Times,serif\" font-size=\"14.00\">left_bin_pre_middle</text>\n",
       "</g>\n",
       "<!-- backwards&#45;&gt;left_bin_pre_middle -->\n",
       "<g id=\"edge2\" class=\"edge\">\n",
       "<title>backwards-&gt;left_bin_pre_middle</title>\n",
       "<path fill=\"none\" stroke=\"black\" d=\"M425.23,-570.35C456.12,-546.03 505.81,-505.78 546,-468 568.02,-447.3 591.5,-422.13 608.02,-403.85\"/>\n",
       "<polygon fill=\"black\" stroke=\"black\" points=\"422.75,-567.84 417.05,-576.77 427.07,-573.35 422.75,-567.84\"/>\n",
       "<polygon fill=\"black\" stroke=\"black\" points=\"611.01,-405.75 615.09,-395.97 605.8,-401.08 611.01,-405.75\"/>\n",
       "</g>\n",
       "<!-- zero -->\n",
       "<g id=\"node14\" class=\"node\">\n",
       "<title>zero</title>\n",
       "<ellipse fill=\"none\" stroke=\"black\" cx=\"329\" cy=\"-90\" rx=\"30.59\" ry=\"18\"/>\n",
       "<text text-anchor=\"middle\" x=\"329\" y=\"-86.3\" font-family=\"Times,serif\" font-size=\"14.00\">zero</text>\n",
       "</g>\n",
       "<!-- backwards&#45;&gt;zero -->\n",
       "<g id=\"edge3\" class=\"edge\">\n",
       "<title>backwards-&gt;zero</title>\n",
       "<path fill=\"none\" stroke=\"black\" d=\"M332.44,-583.69C220.52,-565.48 0,-520.76 0,-451 0,-451 0,-451 0,-233 0,-108.8 200.07,-91.96 288.18,-90.56\"/>\n",
       "<polygon fill=\"black\" stroke=\"black\" points=\"332.17,-587.19 342.59,-585.31 333.27,-580.27 332.17,-587.19\"/>\n",
       "<polygon fill=\"black\" stroke=\"black\" points=\"288.38,-94.06 298.34,-90.46 288.31,-87.06 288.38,-94.06\"/>\n",
       "</g>\n",
       "<!-- ketchup_in_front -->\n",
       "<g id=\"node3\" class=\"node\">\n",
       "<title>ketchup_in_front</title>\n",
       "<ellipse fill=\"none\" stroke=\"black\" cx=\"338\" cy=\"-450\" rx=\"88.28\" ry=\"18\"/>\n",
       "<text text-anchor=\"middle\" x=\"338\" y=\"-446.3\" font-family=\"Times,serif\" font-size=\"14.00\">ketchup_in_front</text>\n",
       "</g>\n",
       "<!-- home&#45;&gt;ketchup_in_front -->\n",
       "<g id=\"edge4\" class=\"edge\">\n",
       "<title>home-&gt;ketchup_in_front</title>\n",
       "<path fill=\"none\" stroke=\"black\" d=\"M376.41,-497.35C370.63,-490.38 364.29,-482.73 358.47,-475.7\"/>\n",
       "<polygon fill=\"black\" stroke=\"black\" points=\"373.76,-499.65 382.84,-505.12 379.15,-495.18 373.76,-499.65\"/>\n",
       "<polygon fill=\"black\" stroke=\"black\" points=\"360.99,-473.26 351.92,-467.8 355.6,-477.73 360.99,-473.26\"/>\n",
       "</g>\n",
       "<!-- ketchup_left -->\n",
       "<g id=\"node4\" class=\"node\">\n",
       "<title>ketchup_left</title>\n",
       "<ellipse fill=\"none\" stroke=\"black\" cx=\"233\" cy=\"-306\" rx=\"67.69\" ry=\"18\"/>\n",
       "<text text-anchor=\"middle\" x=\"233\" y=\"-302.3\" font-family=\"Times,serif\" font-size=\"14.00\">ketchup_left</text>\n",
       "</g>\n",
       "<!-- home&#45;&gt;ketchup_left -->\n",
       "<g id=\"edge5\" class=\"edge\">\n",
       "<title>home-&gt;ketchup_left</title>\n",
       "<path fill=\"none\" stroke=\"black\" d=\"M349.63,-518.56C313.81,-513.99 266.23,-501.5 241,-468 225.66,-447.62 228.11,-374.63 230.79,-334.29\"/>\n",
       "<polygon fill=\"black\" stroke=\"black\" points=\"349.54,-522.07 359.86,-519.7 350.31,-515.11 349.54,-522.07\"/>\n",
       "<polygon fill=\"black\" stroke=\"black\" points=\"234.3,-334.31 231.52,-324.08 227.32,-333.81 234.3,-334.31\"/>\n",
       "</g>\n",
       "<!-- ketchup_right -->\n",
       "<g id=\"node5\" class=\"node\">\n",
       "<title>ketchup_right</title>\n",
       "<ellipse fill=\"none\" stroke=\"black\" cx=\"141\" cy=\"-378\" rx=\"75.29\" ry=\"18\"/>\n",
       "<text text-anchor=\"middle\" x=\"141\" y=\"-374.3\" font-family=\"Times,serif\" font-size=\"14.00\">ketchup_right</text>\n",
       "</g>\n",
       "<!-- home&#45;&gt;ketchup_right -->\n",
       "<g id=\"edge6\" class=\"edge\">\n",
       "<title>home-&gt;ketchup_right</title>\n",
       "<path fill=\"none\" stroke=\"black\" d=\"M350.48,-516.47C310.09,-510.62 250.99,-497.42 208,-468 184.58,-451.97 165.99,-425.07 154.39,-405.03\"/>\n",
       "<polygon fill=\"black\" stroke=\"black\" points=\"350.2,-519.96 360.58,-517.83 351.14,-513.02 350.2,-519.96\"/>\n",
       "<polygon fill=\"black\" stroke=\"black\" points=\"157.34,-403.13 149.42,-396.1 151.23,-406.54 157.34,-403.13\"/>\n",
       "</g>\n",
       "<!-- home&#45;&gt;left_bin_pre_middle -->\n",
       "<g id=\"edge7\" class=\"edge\">\n",
       "<title>home-&gt;left_bin_pre_middle</title>\n",
       "<path fill=\"none\" stroke=\"black\" d=\"M432.16,-505.5C454.02,-495.65 482.18,-482.14 506,-468 539.84,-447.91 576.14,-421.18 600.66,-402.28\"/>\n",
       "<polygon fill=\"black\" stroke=\"black\" points=\"430.61,-502.35 422.9,-509.61 433.46,-508.75 430.61,-502.35\"/>\n",
       "<polygon fill=\"black\" stroke=\"black\" points=\"603.07,-404.84 608.82,-395.94 598.78,-399.31 603.07,-404.84\"/>\n",
       "</g>\n",
       "<!-- left_bin_pre_up_1 -->\n",
       "<g id=\"node7\" class=\"node\">\n",
       "<title>left_bin_pre_up_1</title>\n",
       "<ellipse fill=\"none\" stroke=\"black\" cx=\"525\" cy=\"-306\" rx=\"91.78\" ry=\"18\"/>\n",
       "<text text-anchor=\"middle\" x=\"525\" y=\"-302.3\" font-family=\"Times,serif\" font-size=\"14.00\">left_bin_pre_up_1</text>\n",
       "</g>\n",
       "<!-- home&#45;&gt;left_bin_pre_up_1 -->\n",
       "<g id=\"edge8\" class=\"edge\">\n",
       "<title>home-&gt;left_bin_pre_up_1</title>\n",
       "<path fill=\"none\" stroke=\"black\" d=\"M428.74,-502.9C442.46,-493.93 457.61,-482.01 468,-468 498.45,-426.96 513.73,-368.2 520.47,-334.19\"/>\n",
       "<polygon fill=\"black\" stroke=\"black\" points=\"426.63,-500.1 420,-508.36 430.33,-506.04 426.63,-500.1\"/>\n",
       "<polygon fill=\"black\" stroke=\"black\" points=\"523.97,-334.54 522.37,-324.07 517.09,-333.25 523.97,-334.54\"/>\n",
       "</g>\n",
       "<!-- right_bin_pre_middle -->\n",
       "<g id=\"node10\" class=\"node\">\n",
       "<title>right_bin_pre_middle</title>\n",
       "<ellipse fill=\"none\" stroke=\"black\" cx=\"506\" cy=\"-234\" rx=\"108.58\" ry=\"18\"/>\n",
       "<text text-anchor=\"middle\" x=\"506\" y=\"-230.3\" font-family=\"Times,serif\" font-size=\"14.00\">right_bin_pre_middle</text>\n",
       "</g>\n",
       "<!-- home&#45;&gt;right_bin_pre_middle -->\n",
       "<g id=\"edge9\" class=\"edge\">\n",
       "<title>home-&gt;right_bin_pre_middle</title>\n",
       "<path fill=\"none\" stroke=\"black\" d=\"M418.13,-497.65C424.91,-489.01 431.49,-478.69 435,-468 460,-391.85 385.68,-358.4 424,-288 431.31,-274.57 443.65,-264.03 456.56,-256\"/>\n",
       "<polygon fill=\"black\" stroke=\"black\" points=\"415.4,-495.46 411.68,-505.38 420.77,-499.94 415.4,-495.46\"/>\n",
       "<polygon fill=\"black\" stroke=\"black\" points=\"458.61,-258.86 465.54,-250.84 455.12,-252.79 458.61,-258.86\"/>\n",
       "</g>\n",
       "<!-- right_bin_pre_up_1 -->\n",
       "<g id=\"node11\" class=\"node\">\n",
       "<title>right_bin_pre_up_1</title>\n",
       "<ellipse fill=\"none\" stroke=\"black\" cx=\"689\" cy=\"-162\" rx=\"98.58\" ry=\"18\"/>\n",
       "<text text-anchor=\"middle\" x=\"689\" y=\"-158.3\" font-family=\"Times,serif\" font-size=\"14.00\">right_bin_pre_up_1</text>\n",
       "</g>\n",
       "<!-- home&#45;&gt;right_bin_pre_up_1 -->\n",
       "<g id=\"edge10\" class=\"edge\">\n",
       "<title>home-&gt;right_bin_pre_up_1</title>\n",
       "<path fill=\"none\" stroke=\"black\" d=\"M439.86,-513.42C536.45,-495.49 759,-446.82 759,-379 759,-379 759,-379 759,-305 759,-260.36 730.82,-215.2 710.22,-188.16\"/>\n",
       "<polygon fill=\"black\" stroke=\"black\" points=\"439.03,-510.02 429.82,-515.26 440.29,-516.9 439.03,-510.02\"/>\n",
       "<polygon fill=\"black\" stroke=\"black\" points=\"712.77,-185.74 703.85,-180.03 707.27,-190.06 712.77,-185.74\"/>\n",
       "</g>\n",
       "<!-- home&#45;&gt;zero -->\n",
       "<g id=\"edge11\" class=\"edge\">\n",
       "<title>home-&gt;zero</title>\n",
       "<path fill=\"none\" stroke=\"black\" d=\"M351.1,-515.03C304.47,-507.8 230.08,-493.32 170,-468 104.8,-440.52 38,-449.76 38,-379 38,-379 38,-379 38,-233 38,-122.98 208.08,-98.19 288.19,-92.61\"/>\n",
       "<polygon fill=\"black\" stroke=\"black\" points=\"350.77,-518.52 361.18,-516.55 351.81,-511.6 350.77,-518.52\"/>\n",
       "<polygon fill=\"black\" stroke=\"black\" points=\"288.65,-96.09 298.41,-91.97 288.21,-89.1 288.65,-96.09\"/>\n",
       "</g>\n",
       "<!-- ketchup_in_front&#45;&gt;ketchup_left -->\n",
       "<g id=\"edge12\" class=\"edge\">\n",
       "<title>ketchup_in_front-&gt;ketchup_left</title>\n",
       "<path fill=\"none\" stroke=\"black\" d=\"M319.38,-423.82C300.23,-397.92 270.58,-357.83 251.48,-332\"/>\n",
       "<polygon fill=\"black\" stroke=\"black\" points=\"316.78,-426.19 325.54,-432.15 322.41,-422.03 316.78,-426.19\"/>\n",
       "<polygon fill=\"black\" stroke=\"black\" points=\"254.2,-329.78 245.44,-323.82 248.57,-333.95 254.2,-329.78\"/>\n",
       "</g>\n",
       "<!-- ketchup_in_front&#45;&gt;ketchup_right -->\n",
       "<g id=\"edge13\" class=\"edge\">\n",
       "<title>ketchup_in_front-&gt;ketchup_right</title>\n",
       "<path fill=\"none\" stroke=\"black\" d=\"M286.29,-430.63C256.77,-420.14 219.95,-407.05 190.76,-396.68\"/>\n",
       "<polygon fill=\"black\" stroke=\"black\" points=\"285.14,-433.93 295.74,-433.98 287.49,-427.34 285.14,-433.93\"/>\n",
       "<polygon fill=\"black\" stroke=\"black\" points=\"191.77,-393.33 181.17,-393.27 189.42,-399.92 191.77,-393.33\"/>\n",
       "</g>\n",
       "<!-- ketchup_in_front&#45;&gt;left_bin_pre_middle -->\n",
       "<g id=\"edge14\" class=\"edge\">\n",
       "<title>ketchup_in_front-&gt;left_bin_pre_middle</title>\n",
       "<path fill=\"none\" stroke=\"black\" d=\"M402.81,-433.46C450.19,-422.11 514.29,-406.74 562.33,-395.22\"/>\n",
       "<polygon fill=\"black\" stroke=\"black\" points=\"401.83,-430.1 392.92,-435.83 403.46,-436.91 401.83,-430.1\"/>\n",
       "<polygon fill=\"black\" stroke=\"black\" points=\"563.42,-398.56 572.33,-392.83 561.79,-391.75 563.42,-398.56\"/>\n",
       "</g>\n",
       "<!-- ketchup_in_front&#45;&gt;right_bin_pre_middle -->\n",
       "<g id=\"edge15\" class=\"edge\">\n",
       "<title>ketchup_in_front-&gt;right_bin_pre_middle</title>\n",
       "<path fill=\"none\" stroke=\"black\" d=\"M340.34,-421.79C344.68,-386.85 356.91,-326.21 391,-288 404.65,-272.7 423.61,-261.52 442.2,-253.48\"/>\n",
       "<polygon fill=\"black\" stroke=\"black\" points=\"336.86,-421.42 339.23,-431.75 343.81,-422.2 336.86,-421.42\"/>\n",
       "<polygon fill=\"black\" stroke=\"black\" points=\"443.63,-256.68 451.57,-249.67 440.99,-250.2 443.63,-256.68\"/>\n",
       "</g>\n",
       "<!-- ketchup_in_front&#45;&gt;zero -->\n",
       "<g id=\"edge16\" class=\"edge\">\n",
       "<title>ketchup_in_front-&gt;zero</title>\n",
       "<path fill=\"none\" stroke=\"black\" d=\"M335.26,-421.95C332.62,-393.41 329,-347.08 329,-307 329,-307 329,-307 329,-233 329,-193 329,-146.65 329,-118.08\"/>\n",
       "<polygon fill=\"black\" stroke=\"black\" points=\"331.79,-422.35 336.22,-431.97 338.75,-421.69 331.79,-422.35\"/>\n",
       "<polygon fill=\"black\" stroke=\"black\" points=\"332.5,-118.05 329,-108.05 325.5,-118.05 332.5,-118.05\"/>\n",
       "</g>\n",
       "<!-- ketchup_left&#45;&gt;right_bin_pre_middle -->\n",
       "<g id=\"edge17\" class=\"edge\">\n",
       "<title>ketchup_left-&gt;right_bin_pre_middle</title>\n",
       "<path fill=\"none\" stroke=\"black\" d=\"M289.64,-290.48C333.37,-279.26 393.97,-263.72 439.92,-251.94\"/>\n",
       "<polygon fill=\"black\" stroke=\"black\" points=\"288.75,-287.09 279.93,-292.97 290.49,-293.87 288.75,-287.09\"/>\n",
       "<polygon fill=\"black\" stroke=\"black\" points=\"440.96,-255.29 449.78,-249.41 439.23,-248.51 440.96,-255.29\"/>\n",
       "</g>\n",
       "<!-- ketchup_left&#45;&gt;zero -->\n",
       "<g id=\"edge18\" class=\"edge\">\n",
       "<title>ketchup_left-&gt;zero</title>\n",
       "<path fill=\"none\" stroke=\"black\" d=\"M244.88,-278.51C263.42,-237.2 298.97,-157.93 317.36,-116.95\"/>\n",
       "<polygon fill=\"black\" stroke=\"black\" points=\"241.59,-277.29 240.69,-287.85 247.98,-280.16 241.59,-277.29\"/>\n",
       "<polygon fill=\"black\" stroke=\"black\" points=\"320.64,-118.2 321.54,-107.64 314.25,-115.33 320.64,-118.2\"/>\n",
       "</g>\n",
       "<!-- ketchup_right&#45;&gt;zero -->\n",
       "<g id=\"edge19\" class=\"edge\">\n",
       "<title>ketchup_right-&gt;zero</title>\n",
       "<path fill=\"none\" stroke=\"black\" d=\"M141.75,-349.53C143.16,-331.32 146.82,-307.31 156,-288 191.85,-212.59 265.16,-144.09 303.83,-111.33\"/>\n",
       "<polygon fill=\"black\" stroke=\"black\" points=\"138.24,-349.58 141.14,-359.77 145.23,-350 138.24,-349.58\"/>\n",
       "<polygon fill=\"black\" stroke=\"black\" points=\"306.11,-113.99 311.53,-104.89 301.61,-108.62 306.11,-113.99\"/>\n",
       "</g>\n",
       "<!-- left_bin_pre_middle&#45;&gt;left_bin_pre_up_1 -->\n",
       "<g id=\"edge20\" class=\"edge\">\n",
       "<title>left_bin_pre_middle-&gt;left_bin_pre_up_1</title>\n",
       "<path fill=\"none\" stroke=\"black\" d=\"M596.5,-354.67C584.28,-346.52 570.46,-337.31 558.26,-329.17\"/>\n",
       "<polygon fill=\"black\" stroke=\"black\" points=\"594.85,-357.78 605.12,-360.41 598.74,-351.95 594.85,-357.78\"/>\n",
       "<polygon fill=\"black\" stroke=\"black\" points=\"559.97,-326.1 549.7,-323.47 556.08,-331.93 559.97,-326.1\"/>\n",
       "</g>\n",
       "<!-- left_bin_pre_middle&#45;&gt;right_bin_pre_middle -->\n",
       "<g id=\"edge21\" class=\"edge\">\n",
       "<title>left_bin_pre_middle-&gt;right_bin_pre_middle</title>\n",
       "<path fill=\"none\" stroke=\"black\" d=\"M635.8,-349.85C638.28,-330.91 638.25,-305.91 626,-288 614.83,-271.67 597.43,-260.32 579.31,-252.45\"/>\n",
       "<polygon fill=\"black\" stroke=\"black\" points=\"632.31,-349.51 634.17,-359.94 639.22,-350.62 632.31,-349.51\"/>\n",
       "<polygon fill=\"black\" stroke=\"black\" points=\"580.38,-249.11 569.79,-248.65 577.78,-255.61 580.38,-249.11\"/>\n",
       "</g>\n",
       "<!-- left_bin_pre_middle&#45;&gt;right_bin_pre_up_1 -->\n",
       "<g id=\"edge22\" class=\"edge\">\n",
       "<title>left_bin_pre_middle-&gt;right_bin_pre_up_1</title>\n",
       "<path fill=\"none\" stroke=\"black\" d=\"M669.79,-354.85C680.63,-346.68 691.03,-336.34 697,-324 717.9,-280.81 707.22,-223.26 697.88,-189.95\"/>\n",
       "<polygon fill=\"black\" stroke=\"black\" points=\"667.65,-352.07 661.47,-360.68 671.67,-357.81 667.65,-352.07\"/>\n",
       "<polygon fill=\"black\" stroke=\"black\" points=\"701.14,-188.63 694.94,-180.04 694.43,-190.62 701.14,-188.63\"/>\n",
       "</g>\n",
       "<!-- right_bin_pre_up_2 -->\n",
       "<g id=\"node12\" class=\"node\">\n",
       "<title>right_bin_pre_up_2</title>\n",
       "<ellipse fill=\"none\" stroke=\"black\" cx=\"830\" cy=\"-90\" rx=\"98.58\" ry=\"18\"/>\n",
       "<text text-anchor=\"middle\" x=\"830\" y=\"-86.3\" font-family=\"Times,serif\" font-size=\"14.00\">right_bin_pre_up_2</text>\n",
       "</g>\n",
       "<!-- left_bin_pre_middle&#45;&gt;right_bin_pre_up_2 -->\n",
       "<g id=\"edge23\" class=\"edge\">\n",
       "<title>left_bin_pre_middle-&gt;right_bin_pre_up_2</title>\n",
       "<path fill=\"none\" stroke=\"black\" d=\"M673.62,-355.87C688.27,-347.36 703.92,-336.57 716,-324 775.03,-262.56 809.07,-164.68 822.82,-117.77\"/>\n",
       "<polygon fill=\"black\" stroke=\"black\" points=\"671.7,-352.94 664.68,-360.87 675.12,-359.05 671.7,-352.94\"/>\n",
       "<polygon fill=\"black\" stroke=\"black\" points=\"826.22,-118.62 825.59,-108.04 819.49,-116.7 826.22,-118.62\"/>\n",
       "</g>\n",
       "<!-- left_bin_pre_middle&#45;&gt;zero -->\n",
       "<g id=\"edge24\" class=\"edge\">\n",
       "<title>left_bin_pre_middle-&gt;zero</title>\n",
       "<path fill=\"none\" stroke=\"black\" d=\"M639.25,-349.8C641.61,-341.61 643.82,-332.52 645,-324 651.72,-275.57 656.5,-252.54 624,-216 588.06,-175.59 436.54,-124.46 365.74,-102.2\"/>\n",
       "<polygon fill=\"black\" stroke=\"black\" points=\"635.83,-349.01 636.24,-359.59 642.52,-351.06 635.83,-349.01\"/>\n",
       "<polygon fill=\"black\" stroke=\"black\" points=\"366.49,-98.77 355.9,-99.13 364.41,-105.45 366.49,-98.77\"/>\n",
       "</g>\n",
       "<!-- left_bin_pre_up_1&#45;&gt;right_bin_pre_middle -->\n",
       "<g id=\"edge25\" class=\"edge\">\n",
       "<title>left_bin_pre_up_1-&gt;right_bin_pre_middle</title>\n",
       "<path fill=\"none\" stroke=\"black\" d=\"M517.66,-277.95C516.22,-272.65 514.71,-267.1 513.28,-261.81\"/>\n",
       "<polygon fill=\"black\" stroke=\"black\" points=\"514.31,-278.96 520.3,-287.7 521.06,-277.13 514.31,-278.96\"/>\n",
       "<polygon fill=\"black\" stroke=\"black\" points=\"516.64,-260.84 510.64,-252.1 509.88,-262.67 516.64,-260.84\"/>\n",
       "</g>\n",
       "<!-- left_bin_pre_up_1&#45;&gt;right_bin_pre_up_1 -->\n",
       "<g id=\"edge26\" class=\"edge\">\n",
       "<title>left_bin_pre_up_1-&gt;right_bin_pre_up_1</title>\n",
       "<path fill=\"none\" stroke=\"black\" d=\"M572.61,-284.94C589.88,-276.32 608.86,-265.17 624,-252 644.72,-233.98 662.64,-208.19 674.38,-189.01\"/>\n",
       "<polygon fill=\"black\" stroke=\"black\" points=\"570.71,-281.97 563.23,-289.47 573.75,-288.27 570.71,-281.97\"/>\n",
       "<polygon fill=\"black\" stroke=\"black\" points=\"677.53,-190.57 679.64,-180.19 671.51,-186.99 677.53,-190.57\"/>\n",
       "</g>\n",
       "<!-- left_bin_pre_up_1&#45;&gt;zero -->\n",
       "<g id=\"edge27\" class=\"edge\">\n",
       "<title>left_bin_pre_up_1-&gt;zero</title>\n",
       "<path fill=\"none\" stroke=\"black\" d=\"M452.56,-289.62C429.48,-281.67 405.44,-269.75 388,-252 368.86,-232.51 346.84,-158.22 335.91,-117.72\"/>\n",
       "<polygon fill=\"black\" stroke=\"black\" points=\"451.78,-293.05 462.37,-292.79 453.94,-286.39 451.78,-293.05\"/>\n",
       "<polygon fill=\"black\" stroke=\"black\" points=\"339.27,-116.73 333.31,-107.97 332.5,-118.53 339.27,-116.73\"/>\n",
       "</g>\n",
       "<!-- left_bin_pre_up_2 -->\n",
       "<g id=\"node8\" class=\"node\">\n",
       "<title>left_bin_pre_up_2</title>\n",
       "<ellipse fill=\"none\" stroke=\"black\" cx=\"971\" cy=\"-234\" rx=\"91.78\" ry=\"18\"/>\n",
       "<text text-anchor=\"middle\" x=\"971\" y=\"-230.3\" font-family=\"Times,serif\" font-size=\"14.00\">left_bin_pre_up_2</text>\n",
       "</g>\n",
       "<!-- left_bin_top_rack -->\n",
       "<g id=\"node9\" class=\"node\">\n",
       "<title>left_bin_top_rack</title>\n",
       "<ellipse fill=\"none\" stroke=\"black\" cx=\"971\" cy=\"-162\" rx=\"89.08\" ry=\"18\"/>\n",
       "<text text-anchor=\"middle\" x=\"971\" y=\"-158.3\" font-family=\"Times,serif\" font-size=\"14.00\">left_bin_top_rack</text>\n",
       "</g>\n",
       "<!-- left_bin_pre_up_2&#45;&gt;left_bin_top_rack -->\n",
       "<g id=\"edge28\" class=\"edge\">\n",
       "<title>left_bin_pre_up_2-&gt;left_bin_top_rack</title>\n",
       "<path fill=\"none\" stroke=\"black\" d=\"M971,-205.67C971,-200.69 971,-195.49 971,-190.51\"/>\n",
       "<polygon fill=\"black\" stroke=\"black\" points=\"967.5,-205.7 971,-215.7 974.5,-205.7 967.5,-205.7\"/>\n",
       "<polygon fill=\"black\" stroke=\"black\" points=\"974.5,-190.1 971,-180.1 967.5,-190.1 974.5,-190.1\"/>\n",
       "</g>\n",
       "<!-- left_bin_pre_up_2&#45;&gt;right_bin_pre_up_2 -->\n",
       "<g id=\"edge29\" class=\"edge\">\n",
       "<title>left_bin_pre_up_2-&gt;right_bin_pre_up_2</title>\n",
       "<path fill=\"none\" stroke=\"black\" d=\"M920.84,-213.41C904.08,-205.04 886.3,-193.92 873,-180 856.22,-162.44 844.85,-137.08 838.04,-117.93\"/>\n",
       "<polygon fill=\"black\" stroke=\"black\" points=\"919.48,-216.64 930.01,-217.79 922.49,-210.32 919.48,-216.64\"/>\n",
       "<polygon fill=\"black\" stroke=\"black\" points=\"841.3,-116.65 834.8,-108.28 834.66,-118.87 841.3,-116.65\"/>\n",
       "</g>\n",
       "<!-- right_bin_top_rack -->\n",
       "<g id=\"node13\" class=\"node\">\n",
       "<title>right_bin_top_rack</title>\n",
       "<ellipse fill=\"none\" stroke=\"black\" cx=\"971\" cy=\"-18\" rx=\"96.68\" ry=\"18\"/>\n",
       "<text text-anchor=\"middle\" x=\"971\" y=\"-14.3\" font-family=\"Times,serif\" font-size=\"14.00\">right_bin_top_rack</text>\n",
       "</g>\n",
       "<!-- left_bin_pre_up_2&#45;&gt;right_bin_top_rack -->\n",
       "<g id=\"edge30\" class=\"edge\">\n",
       "<title>left_bin_pre_up_2-&gt;right_bin_top_rack</title>\n",
       "<path fill=\"none\" stroke=\"black\" d=\"M1029.15,-214.31C1044.82,-206.32 1059.93,-195.21 1069,-180 1077.19,-166.26 1074.22,-159.12 1069,-144 1054.95,-103.31 1021.6,-65.76 997.7,-42.66\"/>\n",
       "<polygon fill=\"black\" stroke=\"black\" points=\"1027.45,-211.24 1019.89,-218.67 1030.43,-217.58 1027.45,-211.24\"/>\n",
       "<polygon fill=\"black\" stroke=\"black\" points=\"999.99,-40 990.31,-35.68 995.18,-45.09 999.99,-40\"/>\n",
       "</g>\n",
       "<!-- left_bin_top_rack&#45;&gt;right_bin_pre_up_2 -->\n",
       "<g id=\"edge31\" class=\"edge\">\n",
       "<title>left_bin_top_rack-&gt;right_bin_pre_up_2</title>\n",
       "<path fill=\"none\" stroke=\"black\" d=\"M929.79,-140.54C911.4,-131.41 889.78,-120.68 871.38,-111.54\"/>\n",
       "<polygon fill=\"black\" stroke=\"black\" points=\"928.49,-143.8 939,-145.12 931.6,-137.53 928.49,-143.8\"/>\n",
       "<polygon fill=\"black\" stroke=\"black\" points=\"872.87,-108.38 862.36,-107.06 869.76,-114.65 872.87,-108.38\"/>\n",
       "</g>\n",
       "<!-- left_bin_top_rack&#45;&gt;right_bin_top_rack -->\n",
       "<g id=\"edge32\" class=\"edge\">\n",
       "<title>left_bin_top_rack-&gt;right_bin_top_rack</title>\n",
       "<path fill=\"none\" stroke=\"black\" d=\"M971,-133.68C971,-108.6 971,-71.63 971,-46.49\"/>\n",
       "<polygon fill=\"black\" stroke=\"black\" points=\"967.5,-133.87 971,-143.87 974.5,-133.87 967.5,-133.87\"/>\n",
       "<polygon fill=\"black\" stroke=\"black\" points=\"974.5,-46.19 971,-36.19 967.5,-46.19 974.5,-46.19\"/>\n",
       "</g>\n",
       "<!-- right_bin_pre_middle&#45;&gt;right_bin_pre_up_1 -->\n",
       "<g id=\"edge33\" class=\"edge\">\n",
       "<title>right_bin_pre_middle-&gt;right_bin_pre_up_1</title>\n",
       "<path fill=\"none\" stroke=\"black\" d=\"M556.59,-213.65C582.24,-203.84 613.29,-191.96 638.87,-182.18\"/>\n",
       "<polygon fill=\"black\" stroke=\"black\" points=\"555.16,-210.45 547.07,-217.29 557.66,-216.99 555.16,-210.45\"/>\n",
       "<polygon fill=\"black\" stroke=\"black\" points=\"640.29,-185.38 648.38,-178.54 637.79,-178.84 640.29,-185.38\"/>\n",
       "</g>\n",
       "<!-- right_bin_pre_middle&#45;&gt;right_bin_pre_up_2 -->\n",
       "<g id=\"edge34\" class=\"edge\">\n",
       "<title>right_bin_pre_middle-&gt;right_bin_pre_up_2</title>\n",
       "<path fill=\"none\" stroke=\"black\" d=\"M520.83,-207.45C534.02,-187.08 555.19,-159.48 581,-144 624.88,-117.69 679.99,-104.33 727.21,-97.6\"/>\n",
       "<polygon fill=\"black\" stroke=\"black\" points=\"517.85,-205.62 515.51,-215.96 523.78,-209.33 517.85,-205.62\"/>\n",
       "<polygon fill=\"black\" stroke=\"black\" points=\"727.71,-101.06 737.16,-96.26 726.78,-94.13 727.71,-101.06\"/>\n",
       "</g>\n",
       "<!-- right_bin_pre_middle&#45;&gt;zero -->\n",
       "<g id=\"edge35\" class=\"edge\">\n",
       "<title>right_bin_pre_middle-&gt;zero</title>\n",
       "<path fill=\"none\" stroke=\"black\" d=\"M477.05,-209.77C442.94,-182.41 386.84,-137.4 354.38,-111.36\"/>\n",
       "<polygon fill=\"black\" stroke=\"black\" points=\"475.01,-212.63 485,-216.15 479.39,-207.17 475.01,-212.63\"/>\n",
       "<polygon fill=\"black\" stroke=\"black\" points=\"356.26,-108.38 346.27,-104.86 351.88,-113.84 356.26,-108.38\"/>\n",
       "</g>\n",
       "<!-- right_bin_pre_up_1&#45;&gt;right_bin_pre_up_2 -->\n",
       "<g id=\"edge36\" class=\"edge\">\n",
       "<title>right_bin_pre_up_1-&gt;right_bin_pre_up_2</title>\n",
       "<path fill=\"none\" stroke=\"black\" d=\"M730.5,-140.4C748.65,-131.39 769.91,-120.83 788.11,-111.8\"/>\n",
       "<polygon fill=\"black\" stroke=\"black\" points=\"728.75,-137.36 721.35,-144.94 731.86,-143.63 728.75,-137.36\"/>\n",
       "<polygon fill=\"black\" stroke=\"black\" points=\"789.91,-114.81 797.31,-107.23 786.8,-108.54 789.91,-114.81\"/>\n",
       "</g>\n",
       "<!-- right_bin_pre_up_1&#45;&gt;zero -->\n",
       "<g id=\"edge37\" class=\"edge\">\n",
       "<title>right_bin_pre_up_1-&gt;zero</title>\n",
       "<path fill=\"none\" stroke=\"black\" d=\"M614.26,-146.47C539.24,-131.88 426.61,-109.98 367.84,-98.55\"/>\n",
       "<polygon fill=\"black\" stroke=\"black\" points=\"613.74,-149.93 624.22,-148.4 615.08,-143.06 613.74,-149.93\"/>\n",
       "<polygon fill=\"black\" stroke=\"black\" points=\"368.33,-95.08 357.85,-96.61 367,-101.95 368.33,-95.08\"/>\n",
       "</g>\n",
       "<!-- right_bin_pre_up_2&#45;&gt;right_bin_top_rack -->\n",
       "<g id=\"edge38\" class=\"edge\">\n",
       "<title>right_bin_pre_up_2-&gt;right_bin_top_rack</title>\n",
       "<path fill=\"none\" stroke=\"black\" d=\"M871.57,-68.36C889.94,-59.24 911.49,-48.55 929.82,-39.44\"/>\n",
       "<polygon fill=\"black\" stroke=\"black\" points=\"869.75,-65.36 862.35,-72.94 872.86,-71.63 869.75,-65.36\"/>\n",
       "<polygon fill=\"black\" stroke=\"black\" points=\"931.4,-42.57 938.8,-34.98 928.29,-36.3 931.4,-42.57\"/>\n",
       "</g>\n",
       "</g>\n",
       "</svg>"
      ],
      "text/plain": [
       "<IPython.core.display.SVG object>"
      ]
     },
     "metadata": {},
     "output_type": "display_data"
    }
   ],
   "source": [
    "VisualizeConnectivity(iris_regions)"
   ]
  },
  {
   "cell_type": "code",
   "execution_count": null,
   "id": "d99fe23f",
   "metadata": {},
   "outputs": [],
   "source": [
    "#VisualizeRegions(meshcat, iris_regions)"
   ]
  }
 ],
 "metadata": {
  "kernelspec": {
   "display_name": "Python (my_venv)",
   "language": "python",
   "name": "my_venv"
  },
  "language_info": {
   "codemirror_mode": {
    "name": "ipython",
    "version": 3
   },
   "file_extension": ".py",
   "mimetype": "text/x-python",
   "name": "python",
   "nbconvert_exporter": "python",
   "pygments_lexer": "ipython3",
   "version": "3.12.0"
  }
 },
 "nbformat": 4,
 "nbformat_minor": 5
}
