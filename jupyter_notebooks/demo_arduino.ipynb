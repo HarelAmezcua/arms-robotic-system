{
 "cells": [
  {
   "cell_type": "code",
   "execution_count": null,
   "id": "6c26eafd",
   "metadata": {},
   "outputs": [],
   "source": [
    "import sys\n",
    "import os\n",
    "import json\n",
    "\n",
    "from pydrake.geometry import ( StartMeshcat )\n",
    "from pydrake.geometry.optimization import (LoadIrisRegionsYamlFile) # type: ignore\n",
    "\n",
    "# add parent folders to path\n",
    "sys.path.append(os.path.abspath('..'))\n",
    "\n",
    "# Update the import\n",
    "from src.auxiliar_functions import (VisualizeConnectivity)\n",
    "from src.gcs_traj_opt_arduino import demo_trajectory_optimization\n",
    "from src.iris_options import load_config\n",
    "\n",
    "# Start the visualizer (only run this once).\n",
    "meshcat = StartMeshcat()"
   ]
  },
  {
   "cell_type": "code",
   "execution_count": null,
   "id": "3da73c48",
   "metadata": {},
   "outputs": [],
   "source": [
    "parent_dir = os.path.abspath('..')\n",
    "iris_regions = dict()\n",
    "\n",
    "with open(os.path.join(parent_dir, 'common-files','gcs_seeds.json'), 'r') as f:\n",
    "    iris_seeds = json.load(f)\n",
    "\n",
    "if os.path.isfile(os.path.join(parent_dir, 'options.yaml')):\n",
    "    config = load_config(os.path.join(parent_dir, 'options.yaml'))\n",
    "    iris_filename = os.path.join(parent_dir,config[\"iris_regions_path\"])\n",
    "    if os.path.isfile(iris_filename):\n",
    "        iris_regions.update(LoadIrisRegionsYamlFile(iris_filename))\n",
    "        print(f\"Loaded iris regions from {iris_filename}.\")\n",
    "    else:\n",
    "        print(f\"{iris_filename} not found. No previously computed regions were loaded.\")"
   ]
  },
  {
   "cell_type": "code",
   "execution_count": null,
   "id": "86bcbaa5",
   "metadata": {},
   "outputs": [],
   "source": [
    "with open(os.path.join(parent_dir, 'common-files','gcs_seeds.json'), 'r') as f:\n",
    "    iris_seeds = json.load(f)\n",
    "    iris_seeds = {key: iris_seeds[key] for key in iris_regions if key in iris_seeds}"
   ]
  },
  {
   "cell_type": "code",
   "execution_count": null,
   "id": "0a96bc0d",
   "metadata": {},
   "outputs": [],
   "source": [
    "len(iris_seeds),iris_seeds"
   ]
  },
  {
   "cell_type": "code",
   "execution_count": null,
   "id": "a5038fbf",
   "metadata": {},
   "outputs": [],
   "source": [
    "demo_trajectory_optimization(iris_regions, iris_seeds,meshcat)"
   ]
  },
  {
   "cell_type": "code",
   "execution_count": null,
   "id": "b16329e8",
   "metadata": {},
   "outputs": [],
   "source": [
    "VisualizeConnectivity(iris_regions)"
   ]
  },
  {
   "cell_type": "code",
   "execution_count": null,
   "id": "d99fe23f",
   "metadata": {},
   "outputs": [],
   "source": [
    "#VisualizeRegions(meshcat, iris_regions)"
   ]
  }
 ],
 "metadata": {
  "kernelspec": {
   "display_name": "Python (my_venv)",
   "language": "python",
   "name": "my_venv"
  },
  "language_info": {
   "codemirror_mode": {
    "name": "ipython",
    "version": 3
   },
   "file_extension": ".py",
   "mimetype": "text/x-python",
   "name": "python",
   "nbconvert_exporter": "python",
   "pygments_lexer": "ipython3",
   "version": "3.12.0"
  }
 },
 "nbformat": 4,
 "nbformat_minor": 5
}
