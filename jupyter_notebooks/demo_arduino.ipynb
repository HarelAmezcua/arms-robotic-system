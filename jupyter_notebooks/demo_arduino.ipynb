{
 "cells": [
  {
   "cell_type": "markdown",
   "id": "cbff44b3",
   "metadata": {},
   "source": [
    "# DEMO for Whole Robot Motion"
   ]
  },
  {
   "cell_type": "code",
   "execution_count": null,
   "id": "6c26eafd",
   "metadata": {},
   "outputs": [],
   "source": [
    "import sys\n",
    "import os\n",
    "\n",
    "import pandas as pd\n",
    "import numpy as np\n",
    "import json\n",
    "\n",
    "from pydrake.geometry import ( StartMeshcat )\n",
    "from pydrake.geometry.optimization import (LoadIrisRegionsYamlFile) # type: ignore\n",
    "\n",
    "# add parent folders to path\n",
    "sys.path.append(os.path.abspath('..'))\n",
    "\n",
    "# Update the import\n",
    "from src.auxiliar_functions import (VisualizeConnectivity)\n",
    "from src.gcs_traj_opt_arduino import (demo_trajectory_optimization, demo_trajectory_between_positions, record_np_trajectory)\n",
    "from src.gcs_helper import VisualizeRegions\n",
    "\n",
    "# Start the visualizer (only run this once).\n",
    "meshcat = StartMeshcat()"
   ]
  },
  {
   "cell_type": "markdown",
   "id": "18a83345",
   "metadata": {},
   "source": [
    "Loading seeds and IRIS regions."
   ]
  },
  {
   "cell_type": "code",
   "execution_count": null,
   "id": "3da73c48",
   "metadata": {},
   "outputs": [],
   "source": [
    "parent_dir = os.path.abspath('..') # path to the parent directory\n",
    "iris_regions = dict()\n",
    "\n",
    "gcs_seeds_path = os.path.join(parent_dir, 'common-files','demo_seeds.json')\n",
    "regions_path = os.path.join(parent_dir, 'common-files/regions/my_regions2.yaml')\n",
    "\n",
    "if os.path.isfile(regions_path):\n",
    "    iris_regions.update(LoadIrisRegionsYamlFile(regions_path))\n",
    "    print(f\"Loaded iris regions from {regions_path}.\")\n",
    "else:\n",
    "    print(f\"{regions_path} not found. No previously computed regions were loaded.\")\n",
    "\n",
    "\n",
    "with open(gcs_seeds_path, 'r') as f: # load the seeds\n",
    "    iris_seeds = json.load(f)    "
   ]
  },
  {
   "cell_type": "markdown",
   "id": "25b76d93",
   "metadata": {},
   "source": [
    "Creating the connection with ARDUINO"
   ]
  },
  {
   "cell_type": "code",
   "execution_count": null,
   "id": "b46dc3de",
   "metadata": {},
   "outputs": [],
   "source": [
    "from src.data_streamer import DataStreamer\n",
    "try:\n",
    "    streamer = DataStreamer('/dev/ttyACM0', True)\n",
    "    streamer.open_connection()\n",
    "except Exception as e:\n",
    "    print(f\"Error opening connection: {e}\")  "
   ]
  },
  {
   "cell_type": "markdown",
   "id": "1ad22a96",
   "metadata": {},
   "source": [
    "Run GCS for random seeds."
   ]
  },
  {
   "cell_type": "code",
   "execution_count": null,
   "id": "a5038fbf",
   "metadata": {},
   "outputs": [],
   "source": [
    "history, indexes_list = demo_trajectory_optimization(iris_regions, iris_seeds,meshcat, streamer)"
   ]
  },
  {
   "cell_type": "markdown",
   "id": "bc2f13ac",
   "metadata": {},
   "source": [
    "Saving joint history and indexes"
   ]
  },
  {
   "cell_type": "code",
   "execution_count": null,
   "id": "4002d4b8",
   "metadata": {},
   "outputs": [],
   "source": [
    "# Save `history` to a CSV file\n",
    "np.savetxt(\"history.csv\", history, delimiter=\",\")\n",
    "\n",
    "# Save `indexes_list` to a CSV file|\n",
    "pd.DataFrame(indexes_list, columns=[\"Indexes\"]).to_csv(\"indexes_list.csv\", index=False)\n",
    "\n",
    "dataframe = pd.read_csv(\"history.csv\", header=None)\n",
    "dataframe.head()"
   ]
  },
  {
   "cell_type": "code",
   "execution_count": null,
   "id": "f69feee9",
   "metadata": {},
   "outputs": [],
   "source": [
    "indexes_list"
   ]
  },
  {
   "cell_type": "markdown",
   "id": "62de6f18",
   "metadata": {},
   "source": [
    "Graph"
   ]
  },
  {
   "cell_type": "code",
   "execution_count": null,
   "id": "b16329e8",
   "metadata": {},
   "outputs": [],
   "source": [
    "VisualizeConnectivity(iris_regions)"
   ]
  },
  {
   "cell_type": "markdown",
   "id": "bbbbd266",
   "metadata": {},
   "source": [
    "Visualizing collision-free regions."
   ]
  },
  {
   "cell_type": "code",
   "execution_count": null,
   "id": "d99fe23f",
   "metadata": {},
   "outputs": [],
   "source": [
    "VisualizeRegions(meshcat, iris_regions)"
   ]
  },
  {
   "cell_type": "markdown",
   "id": "140b73ef",
   "metadata": {},
   "source": [
    "Code for running GCS for two desired positions"
   ]
  },
  {
   "cell_type": "code",
   "execution_count": null,
   "id": "11b38f12",
   "metadata": {},
   "outputs": [],
   "source": [
    "import numpy as np\n",
    "q_start = np.array([0.0, 0.0, 0.0, 0.0, 0.0])\n",
    "q_goal = np.array([1.57, -0.12, -0.89, -0.76, 0])\n",
    "\n",
    "demo_trajectory_between_positions(q_start, q_goal, iris_regions, meshcat,streamer)"
   ]
  },
  {
   "cell_type": "code",
   "execution_count": null,
   "id": "70b417b7",
   "metadata": {},
   "outputs": [],
   "source": [
    "streamer.close_connection()"
   ]
  },
  {
   "cell_type": "code",
   "execution_count": null,
   "id": "c91456cb",
   "metadata": {},
   "outputs": [],
   "source": [
    "list_of_positions = [[0.0, 0.7, -1.3, -0.9, 0.0],\n",
    "[0.64, 0.53, -1.30, -1.15,0.0],\n",
    "[1.40, 0.53, -1.30, -1.15,0.0],\n",
    "[1.5708, -0.12, -0.89, -0.76, 0],\n",
    "[0.71, 0.91, -1.25, -1.45, 0.0],\n",
    "[-1.5708, 0.91, -1.25, -1.45, 0.0],\n",
    "[-1.57, -0.12, -0.89, -0.76, 0],\n",
    "[-1.57, 0.65, -1.0, -1.57, 0.0],\n",
    "[-0.25, 0.0, 0.0, 0.0, 0.0]]\n",
    "\n",
    "second_list_of_positions = [\n",
    "\t[0.0, 0.0, 0.0, 0.0, 0.0],\n",
    "\t[0.0, 0.0, 0.0, 0.0, 0.0],\n",
    "\t[0.2, 0.7, -1.3, -0.9, 0.0],\n",
    "\t[0.2, 0.95, -1.33, -1.27, 0.0],\n",
    "\t[1.57, 1.57, -1.57, -1.57, 0.0],\n",
    "\t[0.2, 0.95, -1.33, -1.27, 0.0],\n",
    "\t[0.2, 0.7, -1.3, -0.9, 0.0],\n",
    "\t[0.2, 0.95, -1.33, -1.27, 0.0],\n",
    "\t[1.57, 1.57, -1.57, -1.57, 0.0],\n",
    "\t[0.1, 0.95, -1.33, -1.27, 0.0],\n",
    "\t[0.1 , 0.7, -1.3, -0.9, 0.0],\n",
    "\t[0.1, 0.95, -1.33, -1.27, 0.0],\n",
    "\t[1.57, 1.57, -1.57, -1.57, 0.0],\n",
    "\t[0.1, 0.95, -1.33, -1.27, 0.0],\n",
    "\t[0.1, 0.7, -1.3, -0.9, 0.0],\n",
    "\t[0.1, 0.95, -1.33, -1.27, 0.0],\n",
    "\t[1.57, -0.12, -0.89, -0.76, 0.0],\n",
    "\t[0.1, 0.0, 0.0, 0.0, 0.0]\n",
    "]\n",
    "\n",
    "record_np_trajectory(second_list_of_positions, meshcat)"
   ]
  },
  {
   "cell_type": "code",
   "execution_count": null,
   "id": "89d9404e",
   "metadata": {},
   "outputs": [],
   "source": [
    "import pandas as pd\n",
    "\n",
    "# Load the CSV file\n",
    "history = pd.read_csv(\"/home/arath/github/arms-robotic-system/outputs/history4.csv\", header=None)\n",
    "indexes_list = pd.read_csv(\"/home/arath/github/arms-robotic-system/outputs/indexes_list4.csv\")\n",
    "\n",
    "history, indexes_list\n",
    "\n",
    "# Convert the DataFrames to NumPy arrays\n",
    "history_np = history.to_numpy()\n",
    "indexes_list_np = indexes_list.to_numpy()\n",
    "# Print the shapes of the arrays\n",
    "print(\"Shape of history array:\", history_np.shape)\n",
    "print(\"Shape of indexes_list array:\", indexes_list_np.shape)\n",
    "\n",
    "\n",
    "\n",
    "for i in range(len(indexes_list_np)-1):\n",
    "    print(history_np[:, indexes_list_np[i]].flatten())\n",
    "\n",
    "print(history_np[:, indexes_list_np[-1]-1].flatten())"
   ]
  }
 ],
 "metadata": {
  "kernelspec": {
   "display_name": "Python (my_venv)",
   "language": "python",
   "name": "my_venv"
  },
  "language_info": {
   "codemirror_mode": {
    "name": "ipython",
    "version": 3
   },
   "file_extension": ".py",
   "mimetype": "text/x-python",
   "name": "python",
   "nbconvert_exporter": "python",
   "pygments_lexer": "ipython3",
   "version": "3.12.0"
  }
 },
 "nbformat": 4,
 "nbformat_minor": 5
}
