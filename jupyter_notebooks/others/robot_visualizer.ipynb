{
 "cells": [
  {
   "cell_type": "markdown",
   "metadata": {
    "id": "fSJRxZOkbBxu"
   },
   "source": [
    "# This is an implementation of an inverse kinematics algorithm."
   ]
  },
  {
   "cell_type": "code",
   "execution_count": 2,
   "metadata": {
    "colab": {
     "base_uri": "https://localhost:8080/"
    },
    "executionInfo": {
     "elapsed": 7171,
     "status": "ok",
     "timestamp": 1742091675399,
     "user": {
      "displayName": "HAREL ARATH HERNANDEZ AMEZCUA",
      "userId": "16374506728272450130"
     },
     "user_tz": 360
    },
    "id": "jjNSIbRubBx1",
    "outputId": "4b02311f-acbe-436a-d351-eb55644a63c9"
   },
   "outputs": [
    {
     "name": "stdout",
     "output_type": "stream",
     "text": [
      "/home/arath/github/arms-robotic-system/jupyter_notebooks\n"
     ]
    }
   ],
   "source": [
    "# Import some basic libraries and functions for this tutorial.\n",
    "import sys\n",
    "import numpy as np\n",
    "import os\n",
    "from pydrake.geometry import StartMeshcat\n",
    "\n",
    "base_dir = os.path.dirname(os.getcwd())\n",
    "print(base_dir)"
   ]
  },
  {
   "cell_type": "code",
   "execution_count": 3,
   "metadata": {
    "colab": {
     "base_uri": "https://localhost:8080/"
    },
    "executionInfo": {
     "elapsed": 21913,
     "status": "ok",
     "timestamp": 1742091697778,
     "user": {
      "displayName": "HAREL ARATH HERNANDEZ AMEZCUA",
      "userId": "16374506728272450130"
     },
     "user_tz": 360
    },
    "id": "4x0Y9hvu_6YN",
    "outputId": "476709f1-04db-4fad-a896-2f7a87093cd2"
   },
   "outputs": [
    {
     "name": "stderr",
     "output_type": "stream",
     "text": [
      "INFO:drake:Meshcat listening for connections at http://localhost:7001\n",
      "INFO:drake:Click 'Stop Running' or press Esc to quit\n"
     ]
    }
   ],
   "source": [
    "from pydrake.all import ModelVisualizer\n",
    "\n",
    "# Define the path to your local URDF file\n",
    "urdf_file_path = os.path.join(base_dir, \"common-files\",\"models\", \"robot_v2\",\"my_robot.sdf\")\n",
    "\n",
    "# Create a MeshCat visualizer\n",
    "visualizer = ModelVisualizer()\n",
    "\n",
    "# Add the robot model from the URDF file\n",
    "visualizer.parser().AddModels(\"/home/arath/github/arms-robotic-system/common-files/models/robot_v2/my_robot.sdf\")\n",
    "\n",
    "# When this notebook is run in test mode it needs to stop execution without\n",
    "test_mode = True if \"TEST_SRCDIR\" in os.environ else False\n",
    "\n",
    "# Start the interactive visualizer\n",
    "visualizer.Run(loop_once=test_mode)"
   ]
  }
 ],
 "metadata": {
  "colab": {
   "provenance": []
  },
  "deepnote_notebook_id": "dccdd285410a4ada97783fa20facfdf4",
  "kernelspec": {
   "display_name": "Python (my_venv)",
   "language": "python",
   "name": "my_venv"
  },
  "language_info": {
   "codemirror_mode": {
    "name": "ipython",
    "version": 3
   },
   "file_extension": ".py",
   "mimetype": "text/x-python",
   "name": "python",
   "nbconvert_exporter": "python",
   "pygments_lexer": "ipython3",
   "version": "3.12.0"
  }
 },
 "nbformat": 4,
 "nbformat_minor": 0
}
