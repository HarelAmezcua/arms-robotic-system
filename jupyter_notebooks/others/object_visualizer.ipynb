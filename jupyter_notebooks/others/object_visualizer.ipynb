{
 "cells": [
  {
   "cell_type": "markdown",
   "metadata": {
    "id": "fSJRxZOkbBxu"
   },
   "source": [
    "# This is an implementation of an inverse kinematics algorithm."
   ]
  },
  {
   "cell_type": "markdown",
   "metadata": {},
   "source": [
    "Shelve"
   ]
  },
  {
   "cell_type": "code",
   "execution_count": 2,
   "metadata": {
    "colab": {
     "base_uri": "https://localhost:8080/"
    },
    "executionInfo": {
     "elapsed": 21913,
     "status": "ok",
     "timestamp": 1742091697778,
     "user": {
      "displayName": "HAREL ARATH HERNANDEZ AMEZCUA",
      "userId": "16374506728272450130"
     },
     "user_tz": 360
    },
    "id": "4x0Y9hvu_6YN",
    "outputId": "476709f1-04db-4fad-a896-2f7a87093cd2"
   },
   "outputs": [
    {
     "name": "stderr",
     "output_type": "stream",
     "text": [
      "INFO:drake:Meshcat listening for connections at http://localhost:7001\n",
      "INFO:drake:Click 'Stop Running' or press Esc to quit\n"
     ]
    },
    {
     "name": "stdout",
     "output_type": "stream",
     "text": [
      "/home/arath/github/proyecto-modular\n"
     ]
    }
   ],
   "source": [
    "import os\n",
    "from pydrake.all import ModelVisualizer\n",
    "\n",
    "base_dir = os.path.dirname(os.getcwd())\n",
    "print(base_dir)\n",
    "\n",
    "object_dictionary = {0:'shelve/shelves.sdf', \n",
    "                     1:'models/Ketchup/Ketchup.sdf', \n",
    "                     2:'scene_objects/shelve/mini_shelf.sdf', \n",
    "                     3:'', \n",
    "                     4:''\n",
    "                    }\n",
    "\n",
    "desired_object = 2\n",
    "\n",
    "final_path = os.path.join(base_dir,'common-files',object_dictionary[desired_object])\n",
    "\n",
    "# Create a MeshCat visualizer\n",
    "visualizer = ModelVisualizer()\n",
    "\n",
    "# Add the robot model from the URDF file\n",
    "visualizer.parser().AddModels(final_path)\n",
    "\n",
    "# When this notebook is run in test mode it needs to stop execution without\n",
    "test_mode = True if \"TEST_SRCDIR\" in os.environ else False\n",
    "\n",
    "# Start the interactive visualizer\n",
    "visualizer.Run(loop_once=test_mode)\n"
   ]
  },
  {
   "cell_type": "markdown",
   "metadata": {},
   "source": [
    "Ketchup"
   ]
  }
 ],
 "metadata": {
  "colab": {
   "provenance": []
  },
  "deepnote_notebook_id": "dccdd285410a4ada97783fa20facfdf4",
  "kernelspec": {
   "display_name": "Python (my_venv)",
   "language": "python",
   "name": "my_venv"
  },
  "language_info": {
   "codemirror_mode": {
    "name": "ipython",
    "version": 3
   },
   "file_extension": ".py",
   "mimetype": "text/x-python",
   "name": "python",
   "nbconvert_exporter": "python",
   "pygments_lexer": "ipython3",
   "version": "3.12.0"
  }
 },
 "nbformat": 4,
 "nbformat_minor": 0
}
