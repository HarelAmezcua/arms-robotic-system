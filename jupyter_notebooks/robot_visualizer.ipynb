{
 "cells": [
  {
   "cell_type": "markdown",
   "metadata": {
    "id": "fSJRxZOkbBxu"
   },
   "source": [
    "# This is an implementation of an inverse kinematics algorithm."
   ]
  },
  {
   "cell_type": "code",
   "execution_count": null,
   "metadata": {
    "colab": {
     "base_uri": "https://localhost:8080/"
    },
    "executionInfo": {
     "elapsed": 7171,
     "status": "ok",
     "timestamp": 1742091675399,
     "user": {
      "displayName": "HAREL ARATH HERNANDEZ AMEZCUA",
      "userId": "16374506728272450130"
     },
     "user_tz": 360
    },
    "id": "jjNSIbRubBx1",
    "outputId": "4b02311f-acbe-436a-d351-eb55644a63c9"
   },
   "outputs": [],
   "source": [
    "# Import some basic libraries and functions for this tutorial.\n",
    "import sys\n",
    "import numpy as np\n",
    "import os\n",
    "\n",
    "if 'google.colab' in sys.modules:\n",
    "  print(\"You are in colab\")\n",
    "  from google.colab import drive\n",
    "  drive.mount('/content/drive')\n",
    "  os.chdir('/content/drive/Othercomputers/Mi portátil/gcs-motion-planning/jupyter_notebooks')\n",
    "  !pip install pyngrok drake\n",
    "  \n",
    "  from pyngrok import ngrok\n",
    "else:\n",
    "  os.chdir(os.path.dirname(os.getcwd()))\n",
    "  print('You are running local.')\n",
    "\n",
    "from pydrake.common import temp_directory\n",
    "from pydrake.geometry import SceneGraphConfig, StartMeshcat\n",
    "from pydrake.math import RigidTransform, RollPitchYaw\n",
    "from pydrake.multibody.parsing import Parser\n",
    "from pydrake.multibody.plant import AddMultibodyPlantSceneGraph\n",
    "from pydrake.systems.analysis import Simulator\n",
    "from pydrake.systems.framework import DiagramBuilder\n",
    "from pydrake.visualization import AddDefaultVisualization, ModelVisualizer"
   ]
  },
  {
   "cell_type": "code",
   "execution_count": null,
   "metadata": {
    "id": "M4QeeEF9bBx4"
   },
   "outputs": [],
   "source": [
    "# Start the visualizer (only run this once).\n",
    "meshcat = StartMeshcat()\n",
    "if 'google.colab' in sys.modules:\n",
    "  # Create a tunnel to the Meshcat server\n",
    "  ngrok.set_auth_token(\"2rdws4UBYTqZ1NiiyEbJcWRnByV_7D9Jg8K3YVyZzbFMN1ysg\")\n",
    "  public_url = ngrok.connect(7002, \"http\")\n",
    "  print(f\"Meshcat is accessible at: {public_url}\")\n",
    "\n",
    "print(os.getcwd())\n",
    "base_dir = os.path.dirname(os.getcwd())\n",
    "print(base_dir)\n"
   ]
  },
  {
   "cell_type": "code",
   "execution_count": 47,
   "metadata": {
    "colab": {
     "base_uri": "https://localhost:8080/"
    },
    "executionInfo": {
     "elapsed": 21913,
     "status": "ok",
     "timestamp": 1742091697778,
     "user": {
      "displayName": "HAREL ARATH HERNANDEZ AMEZCUA",
      "userId": "16374506728272450130"
     },
     "user_tz": 360
    },
    "id": "4x0Y9hvu_6YN",
    "outputId": "476709f1-04db-4fad-a896-2f7a87093cd2"
   },
   "outputs": [
    {
     "name": "stderr",
     "output_type": "stream",
     "text": [
      "INFO:drake:Meshcat listening for connections at http://localhost:7010\n",
      "INFO:drake:Click 'Stop Running' or press Esc to quit\n"
     ]
    }
   ],
   "source": [
    "import os\n",
    "from pydrake.all import ModelVisualizer\n",
    "\n",
    "# Define the path to your local URDF file\n",
    "urdf_file_path = r\"/home/arath/github/proyecto-modular/common-files/my_robot.sdf\"\n",
    "\n",
    "# Create a MeshCat visualizer\n",
    "visualizer = ModelVisualizer()\n",
    "\n",
    "# Add the robot model from the URDF file\n",
    "visualizer.parser().AddModels(urdf_file_path)\n",
    "\n",
    "# When this notebook is run in test mode it needs to stop execution without\n",
    "test_mode = True if \"TEST_SRCDIR\" in os.environ else False\n",
    "\n",
    "# Start the interactive visualizer\n",
    "visualizer.Run(loop_once=test_mode)\n"
   ]
  },
  {
   "cell_type": "code",
   "execution_count": null,
   "metadata": {
    "colab": {
     "base_uri": "https://localhost:8080/"
    },
    "executionInfo": {
     "elapsed": 463,
     "status": "ok",
     "timestamp": 1742091675864,
     "user": {
      "displayName": "HAREL ARATH HERNANDEZ AMEZCUA",
      "userId": "16374506728272450130"
     },
     "user_tz": 360
    },
    "id": "DtKt88zPHRUT",
    "outputId": "56deeadd-b2c4-4909-f062-d8b4d578c53a"
   },
   "outputs": [],
   "source": [
    "if 'google.colab' in sys.modules:\n",
    "  # Create a tunnel to the Meshcat server\n",
    "  ngrok.set_auth_token(\"2rdws4UBYTqZ1NiiyEbJcWRnByV_7D9Jg8K3YVyZzbFMN1ysg\")\n",
    "  public_url = ngrok.connect(7000, \"http\")\n",
    "  print(f\"Meshcat is accessible at: {public_url}\")"
   ]
  }
 ],
 "metadata": {
  "colab": {
   "provenance": []
  },
  "deepnote_notebook_id": "dccdd285410a4ada97783fa20facfdf4",
  "kernelspec": {
   "display_name": "Python (my_venv)",
   "language": "python",
   "name": "my_venv"
  },
  "language_info": {
   "codemirror_mode": {
    "name": "ipython",
    "version": 3
   },
   "file_extension": ".py",
   "mimetype": "text/x-python",
   "name": "python",
   "nbconvert_exporter": "python",
   "pygments_lexer": "ipython3",
   "version": "3.12.0"
  }
 },
 "nbformat": 4,
 "nbformat_minor": 0
}
