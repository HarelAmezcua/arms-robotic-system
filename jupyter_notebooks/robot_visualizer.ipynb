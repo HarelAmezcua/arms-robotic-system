{
 "cells": [
  {
   "cell_type": "markdown",
   "metadata": {
    "id": "fSJRxZOkbBxu"
   },
   "source": [
    "# This is an implementation of an inverse kinematics algorithm."
   ]
  },
  {
   "cell_type": "code",
   "execution_count": null,
   "metadata": {
    "colab": {
     "base_uri": "https://localhost:8080/"
    },
    "executionInfo": {
     "elapsed": 7171,
     "status": "ok",
     "timestamp": 1742091675399,
     "user": {
      "displayName": "HAREL ARATH HERNANDEZ AMEZCUA",
      "userId": "16374506728272450130"
     },
     "user_tz": 360
    },
    "id": "jjNSIbRubBx1",
    "outputId": "4b02311f-acbe-436a-d351-eb55644a63c9"
   },
   "outputs": [],
   "source": [
    "# Import some basic libraries and functions for this tutorial.\n",
    "import sys\n",
    "import numpy as np\n",
    "import os\n",
    "from pydrake.geometry import StartMeshcat\n",
    "\n",
    "os.chdir(os.path.dirname(os.getcwd()))\n",
    "print('You are running local.')"
   ]
  },
  {
   "cell_type": "code",
   "execution_count": null,
   "metadata": {
    "id": "M4QeeEF9bBx4"
   },
   "outputs": [],
   "source": [
    "# Start the visualizer (only run this once).\n",
    "meshcat = StartMeshcat()\n",
    "print(os.getcwd())\n",
    "base_dir = os.path.dirname(os.getcwd())\n",
    "print(base_dir)"
   ]
  },
  {
   "cell_type": "code",
   "execution_count": null,
   "metadata": {
    "colab": {
     "base_uri": "https://localhost:8080/"
    },
    "executionInfo": {
     "elapsed": 21913,
     "status": "ok",
     "timestamp": 1742091697778,
     "user": {
      "displayName": "HAREL ARATH HERNANDEZ AMEZCUA",
      "userId": "16374506728272450130"
     },
     "user_tz": 360
    },
    "id": "4x0Y9hvu_6YN",
    "outputId": "476709f1-04db-4fad-a896-2f7a87093cd2"
   },
   "outputs": [],
   "source": [
    "from pydrake.all import ModelVisualizer\n",
    "\n",
    "# Define the path to your local URDF file\n",
    "urdf_file_path = r\"/home/arath/github/proyecto-modular/common-files/my_robot.sdf\"\n",
    "\n",
    "# Create a MeshCat visualizer\n",
    "visualizer = ModelVisualizer()\n",
    "\n",
    "# Add the robot model from the URDF file\n",
    "visualizer.parser().AddModels(urdf_file_path)\n",
    "\n",
    "# When this notebook is run in test mode it needs to stop execution without\n",
    "test_mode = True if \"TEST_SRCDIR\" in os.environ else False\n",
    "\n",
    "# Start the interactive visualizer\n",
    "visualizer.Run(loop_once=test_mode)\n"
   ]
  }
 ],
 "metadata": {
  "colab": {
   "provenance": []
  },
  "deepnote_notebook_id": "dccdd285410a4ada97783fa20facfdf4",
  "kernelspec": {
   "display_name": "Python (my_venv)",
   "language": "python",
   "name": "my_venv"
  },
  "language_info": {
   "codemirror_mode": {
    "name": "ipython",
    "version": 3
   },
   "file_extension": ".py",
   "mimetype": "text/x-python",
   "name": "python",
   "nbconvert_exporter": "python",
   "pygments_lexer": "ipython3",
   "version": "3.12.0"
  }
 },
 "nbformat": 4,
 "nbformat_minor": 0
}
