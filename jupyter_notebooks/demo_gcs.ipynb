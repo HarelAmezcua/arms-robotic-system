{
 "cells": [
  {
   "cell_type": "code",
   "execution_count": 1,
   "id": "6c26eafd",
   "metadata": {},
   "outputs": [
    {
     "name": "stderr",
     "output_type": "stream",
     "text": [
      "INFO:drake:Meshcat listening for connections at http://localhost:7000\n"
     ]
    }
   ],
   "source": [
    "import sys\n",
    "import os\n",
    "import json\n",
    "\n",
    "if 'google.colab' in sys.modules:\n",
    "  print(\"You are in colab\")\n",
    "  from google.colab import drive\n",
    "  drive.mount('/content/drive')\n",
    "  os.chdir('/content/drive/MyDrive/Otros/arms-robotic-system/jupyter_notebooks')\n",
    "  !pip install pyngrok drake\n",
    "  from pyngrok import ngrok\n",
    "\n",
    "from pydrake.geometry import ( StartMeshcat )\n",
    "from pydrake.geometry.optimization import (SaveIrisRegionsYamlFile,LoadIrisRegionsYamlFile) # type: ignore\n",
    "\n",
    "# add parent folders to path\n",
    "sys.path.append(os.path.abspath('..'))\n",
    "\n",
    "# Update the import\n",
    "from src.auxiliar_functions import (VisualizeConnectivity)\n",
    "from src.gcs_trajectory_optimization import GcsTrajOpt, demo_trajectory_optimization\n",
    "from src.iris_options import load_config, create_iris_options\n",
    "from src.joint_teleop import JointTeleop\n",
    "from src.gcs_helper import VisualizeRegions\n",
    "from src.end_effector_teleop import EndEffectorTeleop\n",
    "\n",
    "# Start the visualizer (only run this once).\n",
    "meshcat = StartMeshcat()\n",
    "if 'google.colab' in sys.modules:\n",
    "  # Create a tunnel to the Meshcat server\n",
    "  ngrok.set_auth_token(\"2rdws4UBYTqZ1NiiyEbJcWRnByV_7D9Jg8K3YVyZzbFMN1ysg\")\n",
    "  public_url = ngrok.connect(7000, \"http\")\n",
    "  print(f\"Meshcat is accessible at: {public_url}\")"
   ]
  },
  {
   "cell_type": "code",
   "execution_count": 2,
   "id": "3da73c48",
   "metadata": {},
   "outputs": [
    {
     "name": "stdout",
     "output_type": "stream",
     "text": [
      "Loaded iris regions from /home/arath/github/arms-robotic-system/common-files/regions/my_regions.yaml.\n"
     ]
    }
   ],
   "source": [
    "parent_dir = os.path.abspath('..')\n",
    "iris_regions = dict()\n",
    "\n",
    "with open(os.path.join(parent_dir, 'common-files','gcs_seeds.json'), 'r') as f:\n",
    "    iris_seeds = json.load(f)\n",
    "\n",
    "\n",
    "if os.path.isfile(os.path.join(parent_dir, 'options.yaml')):\n",
    "    config = load_config(os.path.join(parent_dir, 'options.yaml'))\n",
    "    iris_filename = os.path.join(parent_dir,config[\"iris_regions_path\"])\n",
    "    if os.path.isfile(iris_filename):\n",
    "        iris_regions.update(LoadIrisRegionsYamlFile(iris_filename))\n",
    "        print(f\"Loaded iris regions from {iris_filename}.\")\n",
    "    else:\n",
    "        print(f\"{iris_filename} not found. No previously computed regions were loaded.\")"
   ]
  },
  {
   "cell_type": "code",
   "execution_count": 3,
   "id": "86bcbaa5",
   "metadata": {},
   "outputs": [],
   "source": [
    "with open(os.path.join(parent_dir, 'common-files','gcs_seeds.json'), 'r') as f:\n",
    "    iris_seeds = json.load(f)\n",
    "    iris_seeds = {key: iris_seeds[key] for key in iris_regions if key in iris_seeds}"
   ]
  },
  {
   "cell_type": "code",
   "execution_count": 4,
   "id": "0a96bc0d",
   "metadata": {},
   "outputs": [
    {
     "data": {
      "text/plain": [
       "12"
      ]
     },
     "execution_count": 4,
     "metadata": {},
     "output_type": "execute_result"
    }
   ],
   "source": [
    "len(iris_seeds)"
   ]
  },
  {
   "cell_type": "code",
   "execution_count": 5,
   "id": "a5038fbf",
   "metadata": {},
   "outputs": [
    {
     "name": "stderr",
     "output_type": "stream",
     "text": [
      "INFO:drake:Solved GCS shortest path using Clp with convex_relaxation=true and preprocessing=true and rounding.\n",
      "INFO:drake:Found 1 unique paths, discarded 99 duplicate paths.\n",
      "INFO:drake:Finished 1 rounding solutions with Clp.\n"
     ]
    },
    {
     "name": "stdout",
     "output_type": "stream",
     "text": [
      "GCS solved in 0.3677504062652588 seconds\n",
      "time:  0.0 3e-06\n",
      "running animation\n"
     ]
    },
    {
     "name": "stderr",
     "output_type": "stream",
     "text": [
      "INFO:drake:Solved GCS shortest path using Clp with convex_relaxation=true and preprocessing=true and rounding.\n",
      "INFO:drake:Found 5 unique paths, discarded 4 duplicate paths.\n",
      "INFO:drake:Finished 5 rounding solutions with Clp.\n"
     ]
    },
    {
     "name": "stdout",
     "output_type": "stream",
     "text": [
      "GCS solved in 0.8936498165130615 seconds\n",
      "time:  0.0 6.924833347949476\n",
      "running animation\n"
     ]
    },
    {
     "name": "stderr",
     "output_type": "stream",
     "text": [
      "INFO:drake:Solved GCS shortest path using Clp with convex_relaxation=true and preprocessing=true and rounding.\n",
      "INFO:drake:Found 5 unique paths, discarded 3 duplicate paths.\n",
      "INFO:drake:Finished 5 rounding solutions with Clp.\n"
     ]
    },
    {
     "name": "stdout",
     "output_type": "stream",
     "text": [
      "GCS solved in 0.5480751991271973 seconds\n",
      "time:  0.0 6.924833347693316\n",
      "running animation\n"
     ]
    },
    {
     "name": "stderr",
     "output_type": "stream",
     "text": [
      "INFO:drake:Solved GCS shortest path using Clp with convex_relaxation=true and preprocessing=true and rounding.\n",
      "INFO:drake:Found 5 unique paths, discarded 12 duplicate paths.\n",
      "INFO:drake:Finished 5 rounding solutions with Clp.\n"
     ]
    },
    {
     "name": "stdout",
     "output_type": "stream",
     "text": [
      "GCS solved in 0.5269696712493896 seconds\n",
      "time:  0.0 4.584937794156015\n",
      "running animation\n"
     ]
    },
    {
     "name": "stderr",
     "output_type": "stream",
     "text": [
      "INFO:drake:Solved GCS shortest path using Clp with convex_relaxation=true and preprocessing=true and rounding.\n",
      "INFO:drake:Found 5 unique paths, discarded 90 duplicate paths.\n",
      "INFO:drake:Finished 5 rounding solutions with Clp.\n"
     ]
    },
    {
     "name": "stdout",
     "output_type": "stream",
     "text": [
      "GCS solved in 0.8933010101318359 seconds\n",
      "time:  0.0 4.749932203495205\n",
      "running animation\n"
     ]
    },
    {
     "name": "stderr",
     "output_type": "stream",
     "text": [
      "INFO:drake:Solved GCS shortest path using Clp with convex_relaxation=true and preprocessing=true and rounding.\n",
      "INFO:drake:Found 5 unique paths, discarded 5 duplicate paths.\n",
      "INFO:drake:Finished 5 rounding solutions with Clp.\n"
     ]
    },
    {
     "name": "stdout",
     "output_type": "stream",
     "text": [
      "GCS solved in 0.41600656509399414 seconds\n",
      "time:  0.0 4.86686025080308\n",
      "running animation\n"
     ]
    },
    {
     "name": "stderr",
     "output_type": "stream",
     "text": [
      "INFO:drake:Solved GCS shortest path using Clp with convex_relaxation=true and preprocessing=true and rounding.\n",
      "INFO:drake:Found 5 unique paths, discarded 4 duplicate paths.\n",
      "INFO:drake:Finished 5 rounding solutions with Clp.\n"
     ]
    },
    {
     "name": "stdout",
     "output_type": "stream",
     "text": [
      "GCS solved in -1.8037018775939941 seconds\n",
      "time:  0.0 4.8668602506825005\n",
      "running animation\n"
     ]
    },
    {
     "name": "stderr",
     "output_type": "stream",
     "text": [
      "INFO:drake:Solved GCS shortest path using Clp with convex_relaxation=true and preprocessing=true and rounding.\n",
      "INFO:drake:Found 5 unique paths, discarded 11 duplicate paths.\n",
      "INFO:drake:Finished 5 rounding solutions with Clp.\n"
     ]
    },
    {
     "name": "stdout",
     "output_type": "stream",
     "text": [
      "GCS solved in 0.8330988883972168 seconds\n",
      "time:  0.0 6.485716285428572\n",
      "running animation\n"
     ]
    },
    {
     "name": "stderr",
     "output_type": "stream",
     "text": [
      "INFO:drake:Solved GCS shortest path using Clp with convex_relaxation=true and preprocessing=true and rounding.\n",
      "INFO:drake:Found 1 unique paths, discarded 99 duplicate paths.\n",
      "INFO:drake:Finished 1 rounding solutions with Clp.\n"
     ]
    },
    {
     "name": "stdout",
     "output_type": "stream",
     "text": [
      "GCS solved in 0.5616495609283447 seconds\n",
      "time:  0.0 6.485716285714285\n",
      "running animation\n"
     ]
    },
    {
     "name": "stderr",
     "output_type": "stream",
     "text": [
      "INFO:drake:Solved GCS shortest path using Clp with convex_relaxation=true and preprocessing=true and rounding.\n",
      "INFO:drake:Found 5 unique paths, discarded 10 duplicate paths.\n",
      "INFO:drake:Finished 5 rounding solutions with Clp.\n"
     ]
    },
    {
     "name": "stdout",
     "output_type": "stream",
     "text": [
      "GCS solved in -1.8212494850158691 seconds\n",
      "time:  0.0 12.882204450486407\n",
      "running animation\n"
     ]
    }
   ],
   "source": [
    "demo_trajectory_optimization(iris_regions, iris_seeds,meshcat)"
   ]
  },
  {
   "cell_type": "code",
   "execution_count": 6,
   "id": "b16329e8",
   "metadata": {},
   "outputs": [
    {
     "data": {
      "image/svg+xml": [
       "<svg xmlns=\"http://www.w3.org/2000/svg\" xmlns:xlink=\"http://www.w3.org/1999/xlink\" width=\"817pt\" height=\"476pt\" viewBox=\"0.00 0.00 817.39 476.00\">\n",
       "<g id=\"graph0\" class=\"graph\" transform=\"scale(1 1) rotate(0) translate(4 472)\">\n",
       "<title>IRIS region connectivity</title>\n",
       "<polygon fill=\"white\" stroke=\"transparent\" points=\"-4,4 -4,-472 813.39,-472 813.39,4 -4,4\"/>\n",
       "<!-- ketchup_left -->\n",
       "<g id=\"node1\" class=\"node\">\n",
       "<title>ketchup_left</title>\n",
       "<ellipse fill=\"none\" stroke=\"black\" cx=\"539.39\" cy=\"-450\" rx=\"67.69\" ry=\"18\"/>\n",
       "<text text-anchor=\"middle\" x=\"539.39\" y=\"-446.3\" font-family=\"Times,serif\" font-size=\"14.00\">ketchup_left</text>\n",
       "</g>\n",
       "<!-- ketchup_on_top -->\n",
       "<g id=\"node2\" class=\"node\">\n",
       "<title>ketchup_on_top</title>\n",
       "<ellipse fill=\"none\" stroke=\"black\" cx=\"428.39\" cy=\"-378\" rx=\"83.39\" ry=\"18\"/>\n",
       "<text text-anchor=\"middle\" x=\"428.39\" y=\"-374.3\" font-family=\"Times,serif\" font-size=\"14.00\">ketchup_on_top</text>\n",
       "</g>\n",
       "<!-- ketchup_left&#45;&gt;ketchup_on_top -->\n",
       "<g id=\"edge1\" class=\"edge\">\n",
       "<title>ketchup_left-&gt;ketchup_on_top</title>\n",
       "<path fill=\"none\" stroke=\"black\" d=\"M505.41,-427.57C491.9,-419.05 476.38,-409.26 462.83,-400.72\"/>\n",
       "<polygon fill=\"black\" stroke=\"black\" points=\"503.88,-430.74 514.21,-433.12 507.61,-424.82 503.88,-430.74\"/>\n",
       "<polygon fill=\"black\" stroke=\"black\" points=\"464.58,-397.68 454.25,-395.31 460.84,-403.6 464.58,-397.68\"/>\n",
       "</g>\n",
       "<!-- left_bin_pre_down -->\n",
       "<g id=\"node5\" class=\"node\">\n",
       "<title>left_bin_pre_down</title>\n",
       "<ellipse fill=\"none\" stroke=\"black\" cx=\"652.39\" cy=\"-234\" rx=\"94.78\" ry=\"18\"/>\n",
       "<text text-anchor=\"middle\" x=\"652.39\" y=\"-230.3\" font-family=\"Times,serif\" font-size=\"14.00\">left_bin_pre_down</text>\n",
       "</g>\n",
       "<!-- ketchup_left&#45;&gt;left_bin_pre_down -->\n",
       "<g id=\"edge2\" class=\"edge\">\n",
       "<title>ketchup_left-&gt;left_bin_pre_down</title>\n",
       "<path fill=\"none\" stroke=\"black\" d=\"M535.54,-421.6C532.21,-387.36 531.51,-328.38 558.39,-288 567.94,-273.67 582.75,-262.79 597.81,-254.74\"/>\n",
       "<polygon fill=\"black\" stroke=\"black\" points=\"532.09,-422.24 536.68,-431.79 539.05,-421.46 532.09,-422.24\"/>\n",
       "<polygon fill=\"black\" stroke=\"black\" points=\"599.78,-257.67 607.18,-250.09 596.66,-251.4 599.78,-257.67\"/>\n",
       "</g>\n",
       "<!-- zero -->\n",
       "<g id=\"node12\" class=\"node\">\n",
       "<title>zero</title>\n",
       "<ellipse fill=\"none\" stroke=\"black\" cx=\"463.39\" cy=\"-18\" rx=\"30.59\" ry=\"18\"/>\n",
       "<text text-anchor=\"middle\" x=\"463.39\" y=\"-14.3\" font-family=\"Times,serif\" font-size=\"14.00\">zero</text>\n",
       "</g>\n",
       "<!-- ketchup_left&#45;&gt;zero -->\n",
       "<g id=\"edge3\" class=\"edge\">\n",
       "<title>ketchup_left-&gt;zero</title>\n",
       "<path fill=\"none\" stroke=\"black\" d=\"M612.4,-441.86C692.36,-429.54 809.39,-396.26 809.39,-307 809.39,-307 809.39,-307 809.39,-161 809.39,-107.52 774.94,-98.34 728.39,-72 656.81,-31.49 558.99,-21.61 504.44,-19.4\"/>\n",
       "<polygon fill=\"black\" stroke=\"black\" points=\"611.74,-438.42 602.36,-443.33 612.76,-445.34 611.74,-438.42\"/>\n",
       "<polygon fill=\"black\" stroke=\"black\" points=\"504.24,-15.9 494.13,-19.06 504,-22.89 504.24,-15.9\"/>\n",
       "</g>\n",
       "<!-- ketchup_right -->\n",
       "<g id=\"node3\" class=\"node\">\n",
       "<title>ketchup_right</title>\n",
       "<ellipse fill=\"none\" stroke=\"black\" cx=\"75.39\" cy=\"-306\" rx=\"75.29\" ry=\"18\"/>\n",
       "<text text-anchor=\"middle\" x=\"75.39\" y=\"-302.3\" font-family=\"Times,serif\" font-size=\"14.00\">ketchup_right</text>\n",
       "</g>\n",
       "<!-- ketchup_on_top&#45;&gt;ketchup_right -->\n",
       "<g id=\"edge4\" class=\"edge\">\n",
       "<title>ketchup_on_top-&gt;ketchup_right</title>\n",
       "<path fill=\"none\" stroke=\"black\" d=\"M359.21,-363.36C305.09,-352.68 227.94,-337.43 160.39,-324 154.19,-322.77 147.74,-321.48 141.28,-320.19\"/>\n",
       "<polygon fill=\"black\" stroke=\"black\" points=\"358.55,-366.8 369.04,-365.3 359.91,-359.93 358.55,-366.8\"/>\n",
       "<polygon fill=\"black\" stroke=\"black\" points=\"141.66,-316.7 131.17,-318.17 140.29,-323.56 141.66,-316.7\"/>\n",
       "</g>\n",
       "<!-- left_bin_top_rack -->\n",
       "<g id=\"node7\" class=\"node\">\n",
       "<title>left_bin_top_rack</title>\n",
       "<ellipse fill=\"none\" stroke=\"black\" cx=\"580.39\" cy=\"-90\" rx=\"89.08\" ry=\"18\"/>\n",
       "<text text-anchor=\"middle\" x=\"580.39\" y=\"-86.3\" font-family=\"Times,serif\" font-size=\"14.00\">left_bin_top_rack</text>\n",
       "</g>\n",
       "<!-- ketchup_on_top&#45;&gt;left_bin_top_rack -->\n",
       "<g id=\"edge5\" class=\"edge\">\n",
       "<title>ketchup_on_top-&gt;left_bin_top_rack</title>\n",
       "<path fill=\"none\" stroke=\"black\" d=\"M455.52,-352.92C463.6,-344.5 471.79,-334.5 477.39,-324 516.13,-251.44 478.04,-214.51 520.39,-144 527.28,-132.53 537.47,-122.19 547.51,-113.76\"/>\n",
       "<polygon fill=\"black\" stroke=\"black\" points=\"452.83,-350.66 448.2,-360.19 457.77,-355.63 452.83,-350.66\"/>\n",
       "<polygon fill=\"black\" stroke=\"black\" points=\"549.83,-116.39 555.46,-107.41 545.46,-110.91 549.83,-116.39\"/>\n",
       "</g>\n",
       "<!-- right_bin_top_rack -->\n",
       "<g id=\"node11\" class=\"node\">\n",
       "<title>right_bin_top_rack</title>\n",
       "<ellipse fill=\"none\" stroke=\"black\" cx=\"338.39\" cy=\"-90\" rx=\"96.68\" ry=\"18\"/>\n",
       "<text text-anchor=\"middle\" x=\"338.39\" y=\"-86.3\" font-family=\"Times,serif\" font-size=\"14.00\">right_bin_top_rack</text>\n",
       "</g>\n",
       "<!-- ketchup_on_top&#45;&gt;right_bin_top_rack -->\n",
       "<g id=\"edge6\" class=\"edge\">\n",
       "<title>ketchup_on_top-&gt;right_bin_top_rack</title>\n",
       "<path fill=\"none\" stroke=\"black\" d=\"M432.42,-349.87C437.82,-304.25 442.92,-210.63 406.39,-144 399.63,-131.66 388.66,-121.23 377.49,-112.98\"/>\n",
       "<polygon fill=\"black\" stroke=\"black\" points=\"428.94,-349.51 431.14,-359.88 435.88,-350.41 428.94,-349.51\"/>\n",
       "<polygon fill=\"black\" stroke=\"black\" points=\"379.19,-109.9 368.97,-107.1 375.21,-115.66 379.19,-109.9\"/>\n",
       "</g>\n",
       "<!-- ketchup_on_top&#45;&gt;zero -->\n",
       "<g id=\"edge7\" class=\"edge\">\n",
       "<title>ketchup_on_top-&gt;zero</title>\n",
       "<path fill=\"none\" stroke=\"black\" d=\"M440.25,-350.43C443.61,-342.1 446.99,-332.78 449.39,-324 459.94,-285.37 463.39,-275.04 463.39,-235 463.39,-235 463.39,-235 463.39,-161 463.39,-121 463.39,-74.65 463.39,-46.08\"/>\n",
       "<polygon fill=\"black\" stroke=\"black\" points=\"437.02,-349.09 436.39,-359.67 443.48,-351.79 437.02,-349.09\"/>\n",
       "<polygon fill=\"black\" stroke=\"black\" points=\"466.89,-46.05 463.39,-36.05 459.89,-46.05 466.89,-46.05\"/>\n",
       "</g>\n",
       "<!-- right_bin_pre_down -->\n",
       "<g id=\"node9\" class=\"node\">\n",
       "<title>right_bin_pre_down</title>\n",
       "<ellipse fill=\"none\" stroke=\"black\" cx=\"263.39\" cy=\"-234\" rx=\"102.08\" ry=\"18\"/>\n",
       "<text text-anchor=\"middle\" x=\"263.39\" y=\"-230.3\" font-family=\"Times,serif\" font-size=\"14.00\">right_bin_pre_down</text>\n",
       "</g>\n",
       "<!-- ketchup_right&#45;&gt;right_bin_pre_down -->\n",
       "<g id=\"edge8\" class=\"edge\">\n",
       "<title>ketchup_right-&gt;right_bin_pre_down</title>\n",
       "<path fill=\"none\" stroke=\"black\" d=\"M123.89,-286.94C151.04,-276.83 184.87,-264.24 212.42,-253.98\"/>\n",
       "<polygon fill=\"black\" stroke=\"black\" points=\"122.5,-283.73 114.35,-290.5 124.94,-290.29 122.5,-283.73\"/>\n",
       "<polygon fill=\"black\" stroke=\"black\" points=\"213.73,-257.23 221.88,-250.46 211.29,-250.67 213.73,-257.23\"/>\n",
       "</g>\n",
       "<!-- ketchup_right&#45;&gt;zero -->\n",
       "<g id=\"edge9\" class=\"edge\">\n",
       "<title>ketchup_right-&gt;zero</title>\n",
       "<path fill=\"none\" stroke=\"black\" d=\"M78.62,-277.75C86,-228.4 108.85,-124.49 174.39,-72 212.17,-41.75 352.73,-27.22 422.95,-21.73\"/>\n",
       "<polygon fill=\"black\" stroke=\"black\" points=\"75.11,-277.58 77.2,-287.97 82.04,-278.54 75.11,-277.58\"/>\n",
       "<polygon fill=\"black\" stroke=\"black\" points=\"423.47,-25.2 433.18,-20.96 422.94,-18.22 423.47,-25.2\"/>\n",
       "</g>\n",
       "<!-- left_bin_bottom_rack -->\n",
       "<g id=\"node4\" class=\"node\">\n",
       "<title>left_bin_bottom_rack</title>\n",
       "<ellipse fill=\"none\" stroke=\"black\" cx=\"674.39\" cy=\"-306\" rx=\"107.48\" ry=\"18\"/>\n",
       "<text text-anchor=\"middle\" x=\"674.39\" y=\"-302.3\" font-family=\"Times,serif\" font-size=\"14.00\">left_bin_bottom_rack</text>\n",
       "</g>\n",
       "<!-- left_bin_bottom_rack&#45;&gt;left_bin_pre_down -->\n",
       "<g id=\"edge10\" class=\"edge\">\n",
       "<title>left_bin_bottom_rack-&gt;left_bin_pre_down</title>\n",
       "<path fill=\"none\" stroke=\"black\" d=\"M665.89,-277.95C664.23,-272.65 662.48,-267.1 660.82,-261.81\"/>\n",
       "<polygon fill=\"black\" stroke=\"black\" points=\"662.62,-279.21 668.96,-287.7 669.3,-277.11 662.62,-279.21\"/>\n",
       "<polygon fill=\"black\" stroke=\"black\" points=\"664.11,-260.59 657.77,-252.1 657.43,-262.69 664.11,-260.59\"/>\n",
       "</g>\n",
       "<!-- left_bin_pre_middle -->\n",
       "<g id=\"node6\" class=\"node\">\n",
       "<title>left_bin_pre_middle</title>\n",
       "<ellipse fill=\"none\" stroke=\"black\" cx=\"630.39\" cy=\"-162\" rx=\"101.28\" ry=\"18\"/>\n",
       "<text text-anchor=\"middle\" x=\"630.39\" y=\"-158.3\" font-family=\"Times,serif\" font-size=\"14.00\">left_bin_pre_middle</text>\n",
       "</g>\n",
       "<!-- left_bin_pre_down&#45;&gt;left_bin_pre_middle -->\n",
       "<g id=\"edge11\" class=\"edge\">\n",
       "<title>left_bin_pre_down-&gt;left_bin_pre_middle</title>\n",
       "<path fill=\"none\" stroke=\"black\" d=\"M643.89,-205.95C642.23,-200.65 640.48,-195.1 638.82,-189.81\"/>\n",
       "<polygon fill=\"black\" stroke=\"black\" points=\"640.62,-207.21 646.96,-215.7 647.3,-205.11 640.62,-207.21\"/>\n",
       "<polygon fill=\"black\" stroke=\"black\" points=\"642.11,-188.59 635.77,-180.1 635.43,-190.69 642.11,-188.59\"/>\n",
       "</g>\n",
       "<!-- left_bin_pre_down&#45;&gt;zero -->\n",
       "<g id=\"edge12\" class=\"edge\">\n",
       "<title>left_bin_pre_down-&gt;zero</title>\n",
       "<path fill=\"none\" stroke=\"black\" d=\"M704.96,-212.95C718.97,-204.92 732.4,-194.14 740.39,-180 765.98,-134.73 737.76,-102.15 695.39,-72 637.88,-31.08 553.8,-21.17 504.23,-19.11\"/>\n",
       "<polygon fill=\"black\" stroke=\"black\" points=\"702.93,-210.07 695.73,-217.84 706.21,-216.25 702.93,-210.07\"/>\n",
       "<polygon fill=\"black\" stroke=\"black\" points=\"504.31,-15.61 494.2,-18.78 504.08,-22.61 504.31,-15.61\"/>\n",
       "</g>\n",
       "<!-- left_bin_pre_middle&#45;&gt;left_bin_top_rack -->\n",
       "<g id=\"edge13\" class=\"edge\">\n",
       "<title>left_bin_pre_middle-&gt;left_bin_top_rack</title>\n",
       "<path fill=\"none\" stroke=\"black\" d=\"M612.33,-135.71C607.85,-129.44 603.06,-122.73 598.58,-116.47\"/>\n",
       "<polygon fill=\"black\" stroke=\"black\" points=\"609.63,-137.95 618.29,-144.05 615.33,-133.88 609.63,-137.95\"/>\n",
       "<polygon fill=\"black\" stroke=\"black\" points=\"601.39,-114.38 592.73,-108.28 595.7,-118.45 601.39,-114.38\"/>\n",
       "</g>\n",
       "<!-- left_bin_pre_middle&#45;&gt;zero -->\n",
       "<g id=\"edge14\" class=\"edge\">\n",
       "<title>left_bin_pre_middle-&gt;zero</title>\n",
       "<path fill=\"none\" stroke=\"black\" d=\"M657.91,-137.21C676.23,-118.48 694.26,-92.25 678.39,-72 657.08,-44.79 559.64,-29.66 503.53,-23.06\"/>\n",
       "<polygon fill=\"black\" stroke=\"black\" points=\"655.41,-134.76 650.68,-144.24 660.29,-139.78 655.41,-134.76\"/>\n",
       "<polygon fill=\"black\" stroke=\"black\" points=\"503.89,-19.58 493.56,-21.93 503.1,-26.53 503.89,-19.58\"/>\n",
       "</g>\n",
       "<!-- left_bin_top_rack&#45;&gt;zero -->\n",
       "<g id=\"edge15\" class=\"edge\">\n",
       "<title>left_bin_top_rack-&gt;zero</title>\n",
       "<path fill=\"none\" stroke=\"black\" d=\"M544.5,-67.52C527.97,-57.63 508.59,-46.04 492.92,-36.67\"/>\n",
       "<polygon fill=\"black\" stroke=\"black\" points=\"542.88,-70.63 553.26,-72.76 546.47,-64.63 542.88,-70.63\"/>\n",
       "<polygon fill=\"black\" stroke=\"black\" points=\"494.55,-33.56 484.18,-31.43 490.96,-39.57 494.55,-33.56\"/>\n",
       "</g>\n",
       "<!-- right_bin_bottom_rack -->\n",
       "<g id=\"node8\" class=\"node\">\n",
       "<title>right_bin_bottom_rack</title>\n",
       "<ellipse fill=\"none\" stroke=\"black\" cx=\"283.39\" cy=\"-306\" rx=\"114.28\" ry=\"18\"/>\n",
       "<text text-anchor=\"middle\" x=\"283.39\" y=\"-302.3\" font-family=\"Times,serif\" font-size=\"14.00\">right_bin_bottom_rack</text>\n",
       "</g>\n",
       "<!-- right_bin_bottom_rack&#45;&gt;right_bin_pre_down -->\n",
       "<g id=\"edge16\" class=\"edge\">\n",
       "<title>right_bin_bottom_rack-&gt;right_bin_pre_down</title>\n",
       "<path fill=\"none\" stroke=\"black\" d=\"M275.66,-277.95C274.15,-272.65 272.56,-267.1 271.05,-261.81\"/>\n",
       "<polygon fill=\"black\" stroke=\"black\" points=\"272.34,-279.04 278.45,-287.7 279.07,-277.12 272.34,-279.04\"/>\n",
       "<polygon fill=\"black\" stroke=\"black\" points=\"274.39,-260.76 268.28,-252.1 267.66,-262.68 274.39,-260.76\"/>\n",
       "</g>\n",
       "<!-- right_bin_pre_middle -->\n",
       "<g id=\"node10\" class=\"node\">\n",
       "<title>right_bin_pre_middle</title>\n",
       "<ellipse fill=\"none\" stroke=\"black\" cx=\"288.39\" cy=\"-162\" rx=\"108.58\" ry=\"18\"/>\n",
       "<text text-anchor=\"middle\" x=\"288.39\" y=\"-158.3\" font-family=\"Times,serif\" font-size=\"14.00\">right_bin_pre_middle</text>\n",
       "</g>\n",
       "<!-- right_bin_pre_down&#45;&gt;right_bin_pre_middle -->\n",
       "<g id=\"edge17\" class=\"edge\">\n",
       "<title>right_bin_pre_down-&gt;right_bin_pre_middle</title>\n",
       "<path fill=\"none\" stroke=\"black\" d=\"M272.95,-206.23C274.86,-200.89 276.87,-195.27 278.78,-189.92\"/>\n",
       "<polygon fill=\"black\" stroke=\"black\" points=\"269.64,-205.1 269.57,-215.7 276.23,-207.46 269.64,-205.1\"/>\n",
       "<polygon fill=\"black\" stroke=\"black\" points=\"282.22,-190.7 282.28,-180.1 275.63,-188.34 282.22,-190.7\"/>\n",
       "</g>\n",
       "<!-- right_bin_pre_down&#45;&gt;zero -->\n",
       "<g id=\"edge18\" class=\"edge\">\n",
       "<title>right_bin_pre_down-&gt;zero</title>\n",
       "<path fill=\"none\" stroke=\"black\" d=\"M207.52,-213.36C192.87,-205.37 178.82,-194.5 170.39,-180 143.63,-133.94 177.86,-101.24 222.39,-72 283.91,-31.62 371.39,-21.56 422.28,-19.32\"/>\n",
       "<polygon fill=\"black\" stroke=\"black\" points=\"206.18,-216.6 216.68,-217.97 209.32,-210.35 206.18,-216.6\"/>\n",
       "<polygon fill=\"black\" stroke=\"black\" points=\"422.7,-22.81 432.56,-18.95 422.44,-15.81 422.7,-22.81\"/>\n",
       "</g>\n",
       "<!-- right_bin_pre_middle&#45;&gt;right_bin_top_rack -->\n",
       "<g id=\"edge19\" class=\"edge\">\n",
       "<title>right_bin_pre_middle-&gt;right_bin_top_rack</title>\n",
       "<path fill=\"none\" stroke=\"black\" d=\"M306.46,-135.71C310.93,-129.44 315.73,-122.73 320.2,-116.47\"/>\n",
       "<polygon fill=\"black\" stroke=\"black\" points=\"303.46,-133.88 300.5,-144.05 309.16,-137.95 303.46,-133.88\"/>\n",
       "<polygon fill=\"black\" stroke=\"black\" points=\"323.09,-118.45 326.05,-108.28 317.39,-114.38 323.09,-118.45\"/>\n",
       "</g>\n",
       "<!-- right_bin_pre_middle&#45;&gt;zero -->\n",
       "<g id=\"edge20\" class=\"edge\">\n",
       "<title>right_bin_pre_middle-&gt;zero</title>\n",
       "<path fill=\"none\" stroke=\"black\" d=\"M257.19,-137.49C236.42,-118.97 215.75,-92.89 232.39,-72 255.79,-42.63 363.27,-28.19 423.03,-22.33\"/>\n",
       "<polygon fill=\"black\" stroke=\"black\" points=\"255.19,-140.38 265.08,-144.19 259.73,-135.05 255.19,-140.38\"/>\n",
       "<polygon fill=\"black\" stroke=\"black\" points=\"423.62,-25.79 433.25,-21.37 422.96,-18.82 423.62,-25.79\"/>\n",
       "</g>\n",
       "<!-- right_bin_top_rack&#45;&gt;zero -->\n",
       "<g id=\"edge21\" class=\"edge\">\n",
       "<title>right_bin_top_rack-&gt;zero</title>\n",
       "<path fill=\"none\" stroke=\"black\" d=\"M376.29,-67.78C394.45,-57.61 415.91,-45.59 432.99,-36.03\"/>\n",
       "<polygon fill=\"black\" stroke=\"black\" points=\"374.4,-64.82 367.39,-72.76 377.82,-70.93 374.4,-64.82\"/>\n",
       "<polygon fill=\"black\" stroke=\"black\" points=\"434.96,-38.93 441.98,-30.99 431.54,-32.83 434.96,-38.93\"/>\n",
       "</g>\n",
       "</g>\n",
       "</svg>"
      ],
      "text/plain": [
       "<IPython.core.display.SVG object>"
      ]
     },
     "metadata": {},
     "output_type": "display_data"
    }
   ],
   "source": [
    "VisualizeConnectivity(iris_regions)"
   ]
  }
 ],
 "metadata": {
  "kernelspec": {
   "display_name": "Python (my_venv)",
   "language": "python",
   "name": "my_venv"
  },
  "language_info": {
   "codemirror_mode": {
    "name": "ipython",
    "version": 3
   },
   "file_extension": ".py",
   "mimetype": "text/x-python",
   "name": "python",
   "nbconvert_exporter": "python",
   "pygments_lexer": "ipython3",
   "version": "3.12.0"
  }
 },
 "nbformat": 4,
 "nbformat_minor": 5
}
