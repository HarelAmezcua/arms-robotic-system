{
 "cells": [
  {
   "cell_type": "code",
   "execution_count": 1,
   "id": "6c26eafd",
   "metadata": {},
   "outputs": [
    {
     "name": "stderr",
     "output_type": "stream",
     "text": [
      "INFO:drake:Meshcat listening for connections at http://localhost:7000\n"
     ]
    }
   ],
   "source": [
    "import sys\n",
    "import os\n",
    "\n",
    "if 'google.colab' in sys.modules:\n",
    "  print(\"You are in colab\")\n",
    "  from google.colab import drive\n",
    "  drive.mount('/content/drive')\n",
    "  os.chdir('/content/drive/MyDrive/Otros/arms-robotic-system/jupyter_notebooks')\n",
    "  !pip install pyngrok drake\n",
    "  from pyngrok import ngrok\n",
    "\n",
    "from pydrake.geometry import ( StartMeshcat )\n",
    "from pydrake.geometry.optimization import (SaveIrisRegionsYamlFile,LoadIrisRegionsYamlFile) # type: ignore\n",
    "\n",
    "# add parent folders to path\n",
    "sys.path.append(os.path.abspath('..'))\n",
    "\n",
    "# Update the import\n",
    "from src.auxiliar_functions import (VisualizeConnectivity)\n",
    "from src.gcs_trajectory_optimization import GcsTrajOpt\n",
    "from src.iris_options import load_config, create_iris_options\n",
    "from src.joint_teleop import JointTeleop\n",
    "from src.gcs_helper import VisualizeRegions\n",
    "from src.end_effector_teleop import EndEffectorTeleop\n",
    "\n",
    "# Start the visualizer (only run this once).\n",
    "meshcat = StartMeshcat()\n",
    "if 'google.colab' in sys.modules:\n",
    "  # Create a tunnel to the Meshcat server\n",
    "  ngrok.set_auth_token(\"2rdws4UBYTqZ1NiiyEbJcWRnByV_7D9Jg8K3YVyZzbFMN1ysg\")\n",
    "  public_url = ngrok.connect(7000, \"http\")\n",
    "  print(f\"Meshcat is accessible at: {public_url}\")"
   ]
  },
  {
   "cell_type": "code",
   "execution_count": 4,
   "id": "3da73c48",
   "metadata": {},
   "outputs": [
    {
     "name": "stdout",
     "output_type": "stream",
     "text": [
      "Loaded iris regions from /home/arath/github/proyecto-modular/common-files/regions/my_regions.yaml.\n"
     ]
    }
   ],
   "source": [
    "parent_dir = os.path.abspath('..')\n",
    "iris_regions = dict()\n",
    "\n",
    "if os.path.isfile(os.path.join(parent_dir, 'options.yaml')):\n",
    "    config = load_config(os.path.join(parent_dir, 'options.yaml'))\n",
    "    iris_filename = os.path.join(parent_dir,config[\"iris_regions_path\"])\n",
    "    if os.path.isfile(iris_filename):\n",
    "        iris_regions.update(LoadIrisRegionsYamlFile(iris_filename))\n",
    "        print(f\"Loaded iris regions from {iris_filename}.\")\n",
    "    else:\n",
    "        print(f\"{iris_filename} not found. No previously computed regions were loaded.\")"
   ]
  },
  {
   "cell_type": "code",
   "execution_count": null,
   "id": "86bcbaa5",
   "metadata": {},
   "outputs": [
    {
     "name": "stderr",
     "output_type": "stream",
     "text": [
      "INFO:drake:Solved GCS shortest path using Clp with convex_relaxation=true and preprocessing=true and rounding.\n",
      "INFO:drake:Found 5 unique paths, discarded 20 duplicate paths.\n",
      "INFO:drake:Finished 5 rounding solutions with Clp.\n"
     ]
    },
    {
     "name": "stdout",
     "output_type": "stream",
     "text": [
      "GCS solved in 0.44257616996765137 seconds\n",
      "running animation\n"
     ]
    }
   ],
   "source": []
  }
 ],
 "metadata": {
  "kernelspec": {
   "display_name": "Python (my_venv)",
   "language": "python",
   "name": "my_venv"
  },
  "language_info": {
   "codemirror_mode": {
    "name": "ipython",
    "version": 3
   },
   "file_extension": ".py",
   "mimetype": "text/x-python",
   "name": "python",
   "nbconvert_exporter": "python",
   "pygments_lexer": "ipython3",
   "version": "3.12.0"
  }
 },
 "nbformat": 4,
 "nbformat_minor": 5
}
