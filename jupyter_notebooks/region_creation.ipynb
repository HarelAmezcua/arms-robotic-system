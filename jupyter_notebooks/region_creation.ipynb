{
 "cells": [
  {
   "cell_type": "markdown",
   "metadata": {
    "id": "fSJRxZOkbBxu"
   },
   "source": [
    "# This is an implementation for computing Collision Free Regions in Configuration Space using IRIS\n",
    "\n",
    "[IRIS in Configuration Space](https://drake.mit.edu/doxygen_cxx/group__geometry__optimization.html#ga3a51e0fec449a0abcf498f78a2a390a8)\n",
    "\n",
    "\n",
    "This notebook contains code for creating, visualizing and saving such regions."
   ]
  },
  {
   "cell_type": "code",
   "execution_count": null,
   "metadata": {
    "colab": {
     "base_uri": "https://localhost:8080/"
    },
    "executionInfo": {
     "elapsed": 8826,
     "status": "ok",
     "timestamp": 1743087509651,
     "user": {
      "displayName": "HAREL ARATH HERNANDEZ AMEZCUA",
      "userId": "16374506728272450130"
     },
     "user_tz": 360
    },
    "id": "jjNSIbRubBx1",
    "outputId": "397a3665-d9e1-4cba-b5cd-c45fe091079d"
   },
   "outputs": [],
   "source": [
    "import sys\n",
    "import os\n",
    "\n",
    "if 'google.colab' in sys.modules:\n",
    "  print(\"You are in colab\")\n",
    "  from google.colab import drive\n",
    "  drive.mount('/content/drive')\n",
    "  os.chdir('/content/drive/MyDrive/Otros/arms-robotic-system/jupyter_notebooks')\n",
    "  !pip install pyngrok drake\n",
    "  from pyngrok import ngrok\n",
    "\n",
    "from pydrake.geometry import ( StartMeshcat )\n",
    "from pydrake.geometry.optimization import (SaveIrisRegionsYamlFile) # type: ignore\n",
    "\n",
    "# add parent folders to path\n",
    "sys.path.append(os.path.abspath('..'))\n",
    "\n",
    "# Update the import\n",
    "from src.auxiliar_functions import (VisualizeConnectivity)\n",
    "from src.gcs_trajectory_optimization import GcsTrajOpt\n",
    "from src.iris_options import load_config, create_iris_options\n",
    "from src.joint_teleop import JointTeleop\n",
    "from src.gcs_helper import VisualizeRegions, GenerateRegions\n",
    "from src.end_effector_teleop import EndEffectorTeleop\n",
    "\n",
    "# Start the visualizer (only run this once).\n",
    "meshcat = StartMeshcat()\n",
    "if 'google.colab' in sys.modules:\n",
    "  # Create a tunnel to the Meshcat server\n",
    "  ngrok.set_auth_token(\"2rdws4UBYTqZ1NiiyEbJcWRnByV_7D9Jg8K3YVyZzbFMN1ysg\")\n",
    "  public_url = ngrok.connect(7000, \"http\")\n",
    "  print(f\"Meshcat is accessible at: {public_url}\")"
   ]
  },
  {
   "cell_type": "markdown",
   "metadata": {
    "id": "dGS6AuZTbBx5"
   },
   "source": [
    "# Setup \n",
    "\n"
   ]
  },
  {
   "cell_type": "code",
   "execution_count": null,
   "metadata": {
    "executionInfo": {
     "elapsed": 17,
     "status": "ok",
     "timestamp": 1743087510249,
     "user": {
      "displayName": "HAREL ARATH HERNANDEZ AMEZCUA",
      "userId": "16374506728272450130"
     },
     "user_tz": 360
    },
    "id": "G4y1LQp5bBx6"
   },
   "outputs": [],
   "source": [
    "# Get the absolute path of the current working directory\n",
    "parent_dir = os.path.dirname(os.getcwd())\n",
    "iris_filename = os.path.join(parent_dir,'common-files','regions','my_regions2.yaml')\n",
    "\n",
    "config = load_config(os.path.join(parent_dir,'common-files','iris_config.yaml'))\n",
    "iris_options = create_iris_options(config)\n",
    "\n",
    "seeds_joint_teleop = []\n",
    "iris_regions = {}"
   ]
  },
  {
   "cell_type": "code",
   "execution_count": null,
   "metadata": {},
   "outputs": [],
   "source": [
    "import json\n",
    "import numpy as np\n",
    "\n",
    "# Load joint positions from a JSON file\n",
    "with open('/home/arath/github/arms-robotic-system/common-files/gcs_seeds.json', 'r') as file:\n",
    "    joint_positions_data = json.load(file)\n",
    "\n",
    "# Convert the lists to numpy arrays\n",
    "joint_positions = {key: np.array(value) for key, value in joint_positions_data.items()}"
   ]
  },
  {
   "cell_type": "code",
   "execution_count": null,
   "metadata": {},
   "outputs": [],
   "source": [
    "GenerateRegions(joint_positions, config, iris_regions,iris_options)\n",
    "iris_regions = {key: value for key, value in iris_regions.items() if value is not None}"
   ]
  },
  {
   "cell_type": "markdown",
   "metadata": {
    "id": "28BbqYixbBx6"
   },
   "source": [
    "## Run IRIS on manually-specified seeds"
   ]
  },
  {
   "cell_type": "code",
   "execution_count": null,
   "metadata": {
    "colab": {
     "base_uri": "https://localhost:8080/"
    },
    "executionInfo": {
     "elapsed": 75,
     "status": "ok",
     "timestamp": 1743087510327,
     "user": {
      "displayName": "HAREL ARATH HERNANDEZ AMEZCUA",
      "userId": "16374506728272450130"
     },
     "user_tz": 360
    },
    "id": "qCXzpeWibBx8",
    "outputId": "9a25c9e4-c7a6-41d6-d104-1c685d39c86e"
   },
   "outputs": [],
   "source": [
    "print(iris_regions.keys())\n",
    "#VisualizeRegions(meshcat, iris_regions)"
   ]
  },
  {
   "cell_type": "markdown",
   "metadata": {},
   "source": [
    "#### End Effector Teleoperation."
   ]
  },
  {
   "cell_type": "code",
   "execution_count": null,
   "metadata": {},
   "outputs": [],
   "source": [
    "#EndEffectorTeleop(meshcat, iris_regions, config, seeds_joint_teleop, iris_options) # End effector teleoperation"
   ]
  },
  {
   "cell_type": "markdown",
   "metadata": {
    "id": "ptSdio4ybBx9"
   },
   "source": [
    "## Joint Teleop"
   ]
  },
  {
   "cell_type": "code",
   "execution_count": null,
   "metadata": {
    "colab": {
     "base_uri": "https://localhost:8080/",
     "height": 726
    },
    "executionInfo": {
     "elapsed": 129026,
     "status": "ok",
     "timestamp": 1743087644391,
     "user": {
      "displayName": "HAREL ARATH HERNANDEZ AMEZCUA",
      "userId": "16374506728272450130"
     },
     "user_tz": 360
    },
    "id": "e5L9OWGLbBx9",
    "outputId": "9ea2cae7-9c2e-4a7b-efb2-2c0651a4f0f6"
   },
   "outputs": [],
   "source": [
    "JointTeleop(meshcat, seeds_joint_teleop, iris_regions, config) # Joint teleoperation"
   ]
  },
  {
   "cell_type": "markdown",
   "metadata": {
    "id": "I8W5SUoDbBx-"
   },
   "source": [
    "## Visualize the current IRIS region connectivity\n",
    "\n",
    "For planning trajectories, it's important to have some non-empty intersection between the convex sets. Here is a simple utility the visualization the connectivity as a graph."
   ]
  },
  {
   "cell_type": "code",
   "execution_count": null,
   "metadata": {
    "colab": {
     "base_uri": "https://localhost:8080/",
     "height": 560
    },
    "executionInfo": {
     "elapsed": 258,
     "status": "ok",
     "timestamp": 1743087644658,
     "user": {
      "displayName": "HAREL ARATH HERNANDEZ AMEZCUA",
      "userId": "16374506728272450130"
     },
     "user_tz": 360
    },
    "id": "oTIK-OeCbBx-",
    "outputId": "974a4ada-ad02-4f00-84b8-69114a4e3cde"
   },
   "outputs": [],
   "source": [
    "VisualizeConnectivity(iris_regions)"
   ]
  },
  {
   "cell_type": "markdown",
   "metadata": {
    "id": "ZMfMCzXNbBx_"
   },
   "source": [
    "## Plan trajectories with GCS Trajectory Optimization"
   ]
  },
  {
   "cell_type": "markdown",
   "metadata": {
    "id": "5L4abJDlbByA"
   },
   "source": [
    "# Save your regions back to disk\n",
    "\n",
    "Note that by default, this notebook will autosave a backup after making each region."
   ]
  },
  {
   "cell_type": "code",
   "execution_count": null,
   "metadata": {
    "colab": {
     "base_uri": "https://localhost:8080/",
     "height": 176
    },
    "executionInfo": {
     "elapsed": 155,
     "status": "error",
     "timestamp": 1743087645287,
     "user": {
      "displayName": "HAREL ARATH HERNANDEZ AMEZCUA",
      "userId": "16374506728272450130"
     },
     "user_tz": 360
    },
    "id": "6cTqZuYKbByA",
    "outputId": "d47a612b-186b-4a05-8c3b-b1f9332e3520"
   },
   "outputs": [],
   "source": [
    "SaveIrisRegionsYamlFile(iris_filename, iris_regions)"
   ]
  },
  {
   "cell_type": "code",
   "execution_count": null,
   "metadata": {
    "colab": {
     "base_uri": "https://localhost:8080/"
    },
    "executionInfo": {
     "elapsed": 387,
     "status": "ok",
     "timestamp": 1743087657891,
     "user": {
      "displayName": "HAREL ARATH HERNANDEZ AMEZCUA",
      "userId": "16374506728272450130"
     },
     "user_tz": 360
    },
    "id": "S5yd41azbBx_",
    "outputId": "a0528196-7a57-423d-ca61-d045a08e0b26"
   },
   "outputs": [],
   "source": [
    "# clear the meshcat visualizer\n",
    "meshcat.Delete()\n",
    "meshcat.DeleteAddedControls()\n",
    "\n",
    "#GcsTrajOpt(joint_positions[\"ketchup_in_front\"], joint_positions[\"right_bin_bottom_rack\"],iris_regions, meshcat)"
   ]
  }
 ],
 "metadata": {
  "colab": {
   "provenance": []
  },
  "deepnote_notebook_id": "dccdd285410a4ada97783fa20facfdf4",
  "kernelspec": {
   "display_name": "Python (my_venv)",
   "language": "python",
   "name": "my_venv"
  },
  "language_info": {
   "codemirror_mode": {
    "name": "ipython",
    "version": 3
   },
   "file_extension": ".py",
   "mimetype": "text/x-python",
   "name": "python",
   "nbconvert_exporter": "python",
   "pygments_lexer": "ipython3",
   "version": "3.12.0"
  }
 },
 "nbformat": 4,
 "nbformat_minor": 0
}
