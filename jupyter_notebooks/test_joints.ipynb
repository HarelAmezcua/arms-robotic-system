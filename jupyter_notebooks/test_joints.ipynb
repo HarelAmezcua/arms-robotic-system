{
 "cells": [
  {
   "cell_type": "code",
   "execution_count": 1,
   "id": "f1d0e166",
   "metadata": {},
   "outputs": [],
   "source": [
    "# add parent folders to path\n",
    "import sys\n",
    "import os\n",
    "sys.path.append(os.path.abspath('..'))\n",
    "from src.data_streamer import DataStreamer\n",
    "from time import sleep"
   ]
  },
  {
   "cell_type": "code",
   "execution_count": null,
   "id": "204c119d",
   "metadata": {},
   "outputs": [
    {
     "ename": "InvalidSerialPort",
     "evalue": "Invalid serial port specified.                    Valid options are ['/dev/ttyACM0'],  but /dev/ttyACM1 was provided",
     "output_type": "error",
     "traceback": [
      "\u001b[31m---------------------------------------------------------------------------\u001b[39m",
      "\u001b[31mInvalidSerialPort\u001b[39m                         Traceback (most recent call last)",
      "\u001b[36mCell\u001b[39m\u001b[36m \u001b[39m\u001b[32mIn[2]\u001b[39m\u001b[32m, line 9\u001b[39m\n\u001b[32m      6\u001b[39m interpolated_values = np.linspace(q_0, q_final, steps)\n\u001b[32m      8\u001b[39m \u001b[38;5;28;01mtry\u001b[39;00m:\n\u001b[32m----> \u001b[39m\u001b[32m9\u001b[39m     streamer = \u001b[43mDataStreamer\u001b[49m\u001b[43m(\u001b[49m\u001b[33;43m'\u001b[39;49m\u001b[33;43m/dev/ttyACM1\u001b[39;49m\u001b[33;43m'\u001b[39;49m\u001b[43m)\u001b[49m\n\u001b[32m     10\u001b[39m     streamer.open_connection()\n\u001b[32m     12\u001b[39m     \u001b[38;5;28;01mfor\u001b[39;00m value \u001b[38;5;129;01min\u001b[39;00m interpolated_values:\n",
      "\u001b[36mFile \u001b[39m\u001b[32m~/github/arms-robotic-system/src/data_streamer.py:17\u001b[39m, in \u001b[36mDataStreamer.__init__\u001b[39m\u001b[34m(self, port)\u001b[39m\n\u001b[32m     16\u001b[39m \u001b[38;5;28;01mdef\u001b[39;00m\u001b[38;5;250m \u001b[39m\u001b[34m__init__\u001b[39m(\u001b[38;5;28mself\u001b[39m, port):\n\u001b[32m---> \u001b[39m\u001b[32m17\u001b[39m     \u001b[38;5;28mself\u001b[39m.link = \u001b[43mtxfer\u001b[49m\u001b[43m.\u001b[49m\u001b[43mSerialTransfer\u001b[49m\u001b[43m(\u001b[49m\u001b[43mport\u001b[49m\u001b[43m)\u001b[49m\n\u001b[32m     18\u001b[39m     \u001b[38;5;28mself\u001b[39m.testStruct = Struct()\n",
      "\u001b[36mFile \u001b[39m\u001b[32m~/my_venv/lib/python3.12/site-packages/pySerialTransfer/pySerialTransfer.py:139\u001b[39m, in \u001b[36mSerialTransfer.__init__\u001b[39m\u001b[34m(self, port, baud, restrict_ports, debug, byte_format, timeout, write_timeout)\u001b[39m\n\u001b[32m    136\u001b[39m             \u001b[38;5;28;01mbreak\u001b[39;00m\n\u001b[32m    138\u001b[39m     \u001b[38;5;28;01mif\u001b[39;00m \u001b[38;5;28mself\u001b[39m.port_name \u001b[38;5;129;01mis\u001b[39;00m \u001b[38;5;28;01mNone\u001b[39;00m:\n\u001b[32m--> \u001b[39m\u001b[32m139\u001b[39m         \u001b[38;5;28;01mraise\u001b[39;00m InvalidSerialPort(\u001b[33m'\u001b[39m\u001b[33mInvalid serial port specified.\u001b[39m\u001b[38;5;130;01m\\\u001b[39;00m\n\u001b[32m    140\u001b[39m \u001b[33m            Valid options are \u001b[39m\u001b[38;5;132;01m{ports}\u001b[39;00m\u001b[33m,  but \u001b[39m\u001b[38;5;132;01m{port}\u001b[39;00m\u001b[33m was provided\u001b[39m\u001b[33m'\u001b[39m.format(\n\u001b[32m    141\u001b[39m             **{\u001b[33m'\u001b[39m\u001b[33mports\u001b[39m\u001b[33m'\u001b[39m: serial_ports(), \u001b[33m'\u001b[39m\u001b[33mport\u001b[39m\u001b[33m'\u001b[39m: port}))\n\u001b[32m    142\u001b[39m \u001b[38;5;28;01melse\u001b[39;00m:\n\u001b[32m    143\u001b[39m     \u001b[38;5;28mself\u001b[39m.port_name = port\n",
      "\u001b[31mInvalidSerialPort\u001b[39m: Invalid serial port specified.                    Valid options are ['/dev/ttyACM0'],  but /dev/ttyACM1 was provided"
     ]
    }
   ],
   "source": [
    "import numpy as np\n",
    "\n",
    "q_0 =     np.array([0.0, 90.0, 90.0, 90.0, 90.0, 90.0, 90.0])\n",
    "q_final = np.array([0.0, 90.0, 90.0, 90.0, 180.0, 90.0,90.0])\n",
    "steps = 100  # Number of interpolation steps\n",
    "interpolated_values = np.linspace(q_0, q_final, steps)\n",
    "\n",
    "try:\n",
    "    streamer = DataStreamer('/dev/ttyACM0')\n",
    "    streamer.open_connection()\n",
    "\n",
    "    for value in interpolated_values:\n",
    "        streamer.update_struct(value)\n",
    "        streamer.send_data()\n",
    "        sleep(0.1)\n",
    "        streamer.receive_data()\n",
    "\n",
    "except KeyboardInterrupt:\n",
    "    streamer.close_connection()"
   ]
  }
 ],
 "metadata": {
  "kernelspec": {
   "display_name": "Python (my_venv)",
   "language": "python",
   "name": "my_venv"
  },
  "language_info": {
   "codemirror_mode": {
    "name": "ipython",
    "version": 3
   },
   "file_extension": ".py",
   "mimetype": "text/x-python",
   "name": "python",
   "nbconvert_exporter": "python",
   "pygments_lexer": "ipython3",
   "version": "3.12.0"
  }
 },
 "nbformat": 4,
 "nbformat_minor": 5
}
