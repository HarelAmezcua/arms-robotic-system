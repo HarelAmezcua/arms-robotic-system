{
 "cells": [
  {
   "cell_type": "code",
   "execution_count": null,
   "id": "f1d0e166",
   "metadata": {},
   "outputs": [],
   "source": [
    "# add parent folders to path\n",
    "import sys\n",
    "import os\n",
    "sys.path.append(os.path.abspath('..'))\n",
    "from src.data_streamer import DataStreamer\n",
    "from time import sleep"
   ]
  },
  {
   "cell_type": "code",
   "execution_count": null,
   "id": "204c119d",
   "metadata": {},
   "outputs": [],
   "source": [
    "import numpy as np\n",
    "\n",
    "q_0 =     np.array([0.0, 90.0, 90.0, 90.0, 90.0, 90.0, 90.0])\n",
    "q_final = np.array([0.0, 90.0, 90.0, 90.0, 180.0, 90.0,90.0])\n",
    "steps = 100  # Number of interpolation steps\n",
    "interpolated_values = np.linspace(q_0, q_final, steps)\n",
    "\n",
    "try:\n",
    "    streamer = DataStreamer('/dev/ttyACM0')\n",
    "    streamer.open_connection()\n",
    "\n",
    "    for value in interpolated_values:\n",
    "        streamer.update_struct(value)\n",
    "        streamer.send_data()\n",
    "        sleep(0.1)\n",
    "        streamer.receive_data()\n",
    "\n",
    "except KeyboardInterrupt:\n",
    "    streamer.close_connection()"
   ]
  }
 ],
 "metadata": {
  "kernelspec": {
   "display_name": "Python (my_venv)",
   "language": "python",
   "name": "my_venv"
  },
  "language_info": {
   "codemirror_mode": {
    "name": "ipython",
    "version": 3
   },
   "file_extension": ".py",
   "mimetype": "text/x-python",
   "name": "python",
   "nbconvert_exporter": "python",
   "pygments_lexer": "ipython3",
   "version": "3.12.0"
  }
 },
 "nbformat": 4,
 "nbformat_minor": 5
}
