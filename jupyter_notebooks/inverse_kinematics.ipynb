{
 "cells": [
  {
   "cell_type": "markdown",
   "metadata": {
    "id": "fSJRxZOkbBxu"
   },
   "source": [
    "# This is an implementation of an inverse kinematics algorithm."
   ]
  },
  {
   "cell_type": "code",
   "execution_count": null,
   "metadata": {
    "colab": {
     "base_uri": "https://localhost:8080/"
    },
    "executionInfo": {
     "elapsed": 33755,
     "status": "ok",
     "timestamp": 1742402248107,
     "user": {
      "displayName": "HAREL ARATH HERNANDEZ AMEZCUA",
      "userId": "16374506728272450130"
     },
     "user_tz": 360
    },
    "id": "jjNSIbRubBx1",
    "outputId": "b66d9df9-7bb3-46cb-dd0f-eb3b83873d87"
   },
   "outputs": [],
   "source": [
    "import sys\n",
    "import os\n",
    "\n",
    "if 'google.colab' in sys.modules:\n",
    "  print(\"You are in colab\")\n",
    "  from google.colab import drive\n",
    "  drive.mount('/content/drive')\n",
    "  os.chdir('/content/drive/Othercomputers/Mi portátil/gcs-motion-planning/jupyter_notebooks')\n",
    "  !pip install pyngrok drake\n",
    "  from pyngrok import ngrok\n",
    "else:\n",
    "  os.chdir(os.path.dirname(os.getcwd()))\n",
    "  print('You are running local.')\n",
    "\n",
    "import numpy as np\n",
    "\n",
    "\n",
    "# Drake Libraries\n",
    "# Libraries for basic sdf file visualization\n",
    "from pydrake.common import temp_directory\n",
    "from pydrake.multibody.plant import MultibodyPlant\n",
    "from pydrake.systems.analysis import Simulator\n",
    "from pydrake.multibody.parsing import Parser\n",
    "import random\n",
    "\n",
    "from IPython.display import clear_output\n",
    "from pydrake.all import (\n",
    "    AddMultibodyPlantSceneGraph,\n",
    "    Box,\n",
    "    Cylinder,\n",
    "    DiagramBuilder,\n",
    "    InverseKinematics,\n",
    "    MeshcatVisualizer,\n",
    "    MeshcatVisualizerParams,\n",
    "    RigidTransform,\n",
    "    Role,\n",
    "    RollPitchYaw,\n",
    "    RotationMatrix,\n",
    "    Solve,\n",
    "    StartMeshcat,\n",
    ")\n",
    "\n",
    "# add parent folders to path\n",
    "sys.path.append(os.path.abspath('..'))\n"
   ]
  },
  {
   "cell_type": "code",
   "execution_count": null,
   "metadata": {
    "colab": {
     "base_uri": "https://localhost:8080/"
    },
    "executionInfo": {
     "elapsed": 843,
     "status": "ok",
     "timestamp": 1742402248955,
     "user": {
      "displayName": "HAREL ARATH HERNANDEZ AMEZCUA",
      "userId": "16374506728272450130"
     },
     "user_tz": 360
    },
    "id": "M4QeeEF9bBx4",
    "outputId": "86385715-1fd8-4b84-bd80-8d2abefec9b2"
   },
   "outputs": [],
   "source": [
    "# Start the visualizer (only run this once).\n",
    "meshcat = StartMeshcat()\n",
    "if 'google.colab' in sys.modules:\n",
    "  # Create a tunnel to the Meshcat server\n",
    "  ngrok.set_auth_token(\"2rdws4UBYTqZ1NiiyEbJcWRnByV_7D9Jg8K3YVyZzbFMN1ysg\")\n",
    "  public_url = ngrok.connect(7000, \"http\")\n",
    "  print(f\"Meshcat is accessible at: {public_url}\")\n",
    "  print(os.getcwd())\n",
    "  base_dir = os.path.dirname(os.getcwd())\n",
    "  print(base_dir)\n",
    "\n",
    "\n",
    "base_dir = \"/home/arath/github/proyecto-modular\"\n",
    "print(base_dir)"
   ]
  },
  {
   "cell_type": "code",
   "execution_count": null,
   "metadata": {
    "executionInfo": {
     "elapsed": 30,
     "status": "ok",
     "timestamp": 1742402248982,
     "user": {
      "displayName": "HAREL ARATH HERNANDEZ AMEZCUA",
      "userId": "16374506728272450130"
     },
     "user_tz": 360
    },
    "id": "4n7YK955CMnA"
   },
   "outputs": [],
   "source": [
    "def add_custom_robot(plant,base_dir):\n",
    "    \"\"\"\n",
    "    Adds a custom robot to the plant from an SDF file.\n",
    "\n",
    "    Args:\n",
    "        plant: The MultibodyPlant to which the robot will be added.\n",
    "        sdf_path: The path to the SDF file of the robot.\n",
    "\n",
    "    Returns:\n",
    "        The model instance of the added robot.\n",
    "    \"\"\"\n",
    "    sdf_path= os.path.join(base_dir,'common-files','my_robot.sdf')\n",
    "\n",
    "    if not os.path.exists(sdf_path):\n",
    "        raise FileNotFoundError(f\"SDF file not found at {sdf_path}\")\n",
    "\n",
    "    parser = Parser(plant)\n",
    "    robot_model = parser.AddModels(sdf_path)\n",
    "    plant.WeldFrames(plant.world_frame(), plant.GetFrameByName(\"BASE\"))\n",
    "    return robot_model[0]\n",
    "\n",
    "def add_table(plant,base_dir):\n",
    "    \"\"\"\n",
    "    Adds a table to the plant from an SDF file.\n",
    "\n",
    "    Args:\n",
    "        plant: The MultibodyPlant to which the table will be added.\n",
    "        table_path: The path to the SDF file of the table.\n",
    "\n",
    "    Returns:\n",
    "        The model instance of the added table.\n",
    "    \"\"\"\n",
    "\n",
    "    table_path = os.path.join(base_dir,'common-files','scene_objects','table','table_wide.sdf')\n",
    "\n",
    "    if not os.path.exists(table_path):\n",
    "        raise FileNotFoundError(f\"SDF file not found at {table_path}\")\n",
    "    parser = Parser(plant)\n",
    "    table_model = parser.AddModels(table_path)\n",
    "    translation_vector = RigidTransform([0.0, 0.0, -0.1])\n",
    "    plant.WeldFrames(plant.world_frame(), plant.GetFrameByName(\"table_body\"),translation_vector)\n",
    "    return table_model"
   ]
  },
  {
   "cell_type": "markdown",
   "metadata": {
    "id": "28BbqYixbBx6"
   },
   "source": [
    "## Run IRIS on manually-specified seeds"
   ]
  },
  {
   "cell_type": "code",
   "execution_count": null,
   "metadata": {
    "executionInfo": {
     "elapsed": 7,
     "status": "ok",
     "timestamp": 1742402248992,
     "user": {
      "displayName": "HAREL ARATH HERNANDEZ AMEZCUA",
      "userId": "16374506728272450130"
     },
     "user_tz": 360
    },
    "id": "e7V7swFS6Bvp"
   },
   "outputs": [],
   "source": [
    "def create_scene_and_multibody_plant(plant, builder):\n",
    "    \"\"\"\n",
    "    Adds models to the plant\n",
    "\n",
    "    Returns:\n",
    "      A tuple of the instances added to the plant.\n",
    "    \"\"\"\n",
    "    robot_model = add_custom_robot(plant)[0]\n",
    "    table_model = add_table(plant)[0]\n",
    "    plant.Finalize()\n",
    "\n",
    "    return (robot_model, table_model)\n"
   ]
  },
  {
   "cell_type": "code",
   "execution_count": null,
   "metadata": {
    "executionInfo": {
     "elapsed": 3325,
     "status": "ok",
     "timestamp": 1742402252313,
     "user": {
      "displayName": "HAREL ARATH HERNANDEZ AMEZCUA",
      "userId": "16374506728272450130"
     },
     "user_tz": 360
    },
    "id": "dqRDTSiAZvY4"
   },
   "outputs": [],
   "source": [
    "builder = DiagramBuilder()\n",
    "plant, scene_graph = AddMultibodyPlantSceneGraph(builder, time_step=0.001)\n",
    "\n",
    "robot = add_custom_robot(plant,base_dir)\n",
    "table = add_table(plant,base_dir)\n",
    "plant.Finalize()\n"
   ]
  },
  {
   "cell_type": "code",
   "execution_count": null,
   "metadata": {
    "executionInfo": {
     "elapsed": 3767,
     "status": "ok",
     "timestamp": 1742402256091,
     "user": {
      "displayName": "HAREL ARATH HERNANDEZ AMEZCUA",
      "userId": "16374506728272450130"
     },
     "user_tz": 360
    },
    "id": "zq6KqiI0IpBe"
   },
   "outputs": [],
   "source": [
    "visualizer = MeshcatVisualizer.AddToBuilder(\n",
    "    builder,\n",
    "    scene_graph,\n",
    "    meshcat,\n",
    "    MeshcatVisualizerParams(delete_prefix_initialization_event=False),\n",
    ")\n",
    "\n",
    "diagram = builder.Build()\n",
    "context = diagram.CreateDefaultContext()\n",
    "plant_context = plant.GetMyContextFromRoot(context)\n",
    "q0 = plant.GetPositions(plant_context)\n",
    "\n",
    "diagram.ForcedPublish(context)"
   ]
  },
  {
   "cell_type": "code",
   "execution_count": null,
   "metadata": {
    "executionInfo": {
     "elapsed": 3,
     "status": "ok",
     "timestamp": 1742402256119,
     "user": {
      "displayName": "HAREL ARATH HERNANDEZ AMEZCUA",
      "userId": "16374506728272450130"
     },
     "user_tz": 360
    },
    "id": "ehRNTtzNi4o0"
   },
   "outputs": [],
   "source": [
    "meshcat.Delete()\n",
    "meshcat.DeleteAddedControls()"
   ]
  },
  {
   "cell_type": "code",
   "execution_count": null,
   "metadata": {
    "id": "AwaZXrjcmy75"
   },
   "outputs": [],
   "source": [
    "\"\"\"\n",
    "Desired Position = [0.5,0.0,0.5]\n",
    "Desired Rotation matrix = [0, 0, 1;\n",
    "                           0, 1, 0\n",
    "                           -1,0, 0];\n",
    "\"\"\""
   ]
  },
  {
   "cell_type": "code",
   "execution_count": null,
   "metadata": {
    "id": "roXcgUI3kzFe"
   },
   "outputs": [],
   "source": [
    "def apply_inverse_kinematics(plant, plant_context, pose : list = [[0.0, 0.0, 0.35]]):\n",
    "\n",
    "    from pydrake.multibody.inverse_kinematics import InverseKinematics\n",
    "    from pydrake.math import RigidTransform\n",
    "    import numpy as np\n",
    "    from pydrake.solvers import Solve\n",
    "\n",
    "    desired_pose = RigidTransform(pose)\n",
    "\n",
    "    # Create an inverse kinematics instance\n",
    "    ik = InverseKinematics(plant, plant_context)\n",
    "    q_variables = ik.q()  # Joint variables to solve for\n",
    "\n",
    "    # Get the end-effector frame\n",
    "    end_effector_frame = plant.GetFrameByName(\"tool_center_point\")  # Adjust as needed\n",
    "\n",
    "    # Define the exact position constraint (ensure (3,1) shape)\n",
    "    lower_bound = np.array(pose) - np.array([0.05, 0.05, 0.05])\n",
    "    upper_bound = np.array(pose) + np.array([0.05, 0.05, 0.05])\n",
    "\n",
    "    p_BQ = np.array([0.0, 0.0, 0.0])  # The constrained point in the end-effector frame\n",
    "\n",
    "    # ✅ Use `AddPositionConstraint()`\n",
    "    ik.AddPositionConstraint(\n",
    "        frameB=end_effector_frame,\n",
    "        p_BQ=p_BQ,\n",
    "        frameA=plant.world_frame(),\n",
    "        p_AQ_lower=lower_bound,\n",
    "        p_AQ_upper=upper_bound\n",
    "    )\n",
    "    q0 = np.array([0.0, 0.0, 0.0, 0.0, 0.0])  # Adjust to your robot's nominal position\n",
    "    W = np.eye(len(q0))\n",
    "    prog = ik.get_mutable_prog()\n",
    "    prog.AddQuadraticErrorCost(np.identity(len(q_variables))*0.01, q0, q_variables)\n",
    "    prog.SetInitialGuess(q_variables, q0)\n",
    "\n",
    "    # Solve for joint positions\n",
    "    result = Solve(ik.prog())\n",
    "\n",
    "    if result.is_success():\n",
    "        q_solution = result.GetSolution(q_variables)\n",
    "        print(\"Solved joint positions:\", q_solution)\n",
    "        return q_solution\n",
    "    else:\n",
    "        print(\"IK problem failed to find a solution.\")\n",
    "        return None\n"
   ]
  },
  {
   "cell_type": "code",
   "execution_count": null,
   "metadata": {
    "id": "bpP9d7zPj5Yc"
   },
   "outputs": [],
   "source": [
    "import time\n",
    "import math\n",
    "\n",
    "pose = [0.0, 0.0, 0.25]\n",
    "for i in range(100):  # Iterate multiple times for continuous update\n",
    "    q_solution = apply_inverse_kinematics(plant=plant, plant_context=plant_context, pose=pose)\n",
    "    print(\"pose\",pose)\n",
    "    pose[0] = 0.1*math.sin(0.01*i)+0.1\n",
    "    pose[1] = 0.1*math.sin(0.01*i)+0.1\n",
    "    time.sleep(0.1)\n",
    "    diagram.ForcedPublish(context)\n",
    "    if q_solution is not None:\n",
    "      plant.SetPositions(plant_context, q_solution)"
   ]
  },
  {
   "cell_type": "code",
   "execution_count": null,
   "metadata": {},
   "outputs": [],
   "source": [
    "pose = [0.18304973704919705, 0.18304973704919705, 0.25]\n",
    "q_solution = apply_inverse_kinematics(plant=plant, plant_context=plant_context, pose=pose)\n",
    "time.sleep(0.1)\n",
    "if q_solution is not None:\n",
    "    plant.SetPositions(plant_context, q_solution)\n",
    "    diagram.ForcedPublish(context)"
   ]
  }
 ],
 "metadata": {
  "colab": {
   "provenance": []
  },
  "deepnote_notebook_id": "dccdd285410a4ada97783fa20facfdf4",
  "kernelspec": {
   "display_name": "Python (my_venv)",
   "language": "python",
   "name": "my_venv"
  },
  "language_info": {
   "codemirror_mode": {
    "name": "ipython",
    "version": 3
   },
   "file_extension": ".py",
   "mimetype": "text/x-python",
   "name": "python",
   "nbconvert_exporter": "python",
   "pygments_lexer": "ipython3",
   "version": "3.12.0"
  }
 },
 "nbformat": 4,
 "nbformat_minor": 0
}
